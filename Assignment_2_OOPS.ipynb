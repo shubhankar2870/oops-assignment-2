{
  "nbformat": 4,
  "nbformat_minor": 0,
  "metadata": {
    "colab": {
      "provenance": []
    },
    "kernelspec": {
      "name": "python3",
      "display_name": "Python 3"
    },
    "language_info": {
      "name": "python"
    }
  },
  "cells": [
    {
      "cell_type": "markdown",
      "source": [
        "CONSTRUCTOR"
      ],
      "metadata": {
        "id": "66y_pA0i4EqR"
      }
    },
    {
      "cell_type": "markdown",
      "source": [
        "1. What is a constructor in Python? Explain its purpose and usage.\n",
        "\n",
        "In Python, a constructor is a special method within a class that is automatically called when an object of the class is created. It is typically named __init__. The purpose of a constructor is to initialize the attributes or properties of an object. Constructors are used to set up the initial state of an object so that it can be used effectively."
      ],
      "metadata": {
        "id": "L9bn_lPr4Tfm"
      }
    },
    {
      "cell_type": "markdown",
      "source": [
        "2. Differentiate between a parameterless constructor and a parameterized constructor in Python.\n",
        "\n",
        "Parameterless Constructor:\n",
        "> A parameterless constructor, also known as a default constructor, doesn't take any parameters.\n",
        "> It is defined with the method name __init__ and only includes the self parameter, which is a reference to the object being created.\n",
        "> It is used to set default values or perform any necessary initializations without requiring any external input.\n",
        "> If you don't define a constructor in your class, Python provides a default parameterless constructor for you.\n",
        "\n",
        "\n",
        "Parameterized Constructor:\n",
        "> A parameterized constructor, as the name suggests, accepts one or more parameters in addition to self.\n",
        "> It is used to initialize the object's attributes with values provided when the object is created.\n",
        "> Parameterized constructors are particularly useful when you want to customize the initial state of objects based on external input."
      ],
      "metadata": {
        "id": "mtYJacQ_4soD"
      }
    },
    {
      "cell_type": "code",
      "source": [
        "#3 How do you define a constructor in a Python class? Provide an example.\n",
        "class test:\n",
        "  def __init__(self, param1, param2):\n",
        "    self.param1 = param1\n",
        "    self.param2 = param2\n",
        "\n",
        "  def print_param(self):\n",
        "    print(f\"param1: {self.param1}, param2: {self.param2}\")\n",
        "\n",
        "obj = test(\"shubhankar\", \"harsh\")\n",
        "obj.print_param()"
      ],
      "metadata": {
        "colab": {
          "base_uri": "https://localhost:8080/"
        },
        "id": "l7spAenZ5pQC",
        "outputId": "70c46672-9d6f-4cdd-c5dc-8c72da8bcc0b"
      },
      "execution_count": null,
      "outputs": [
        {
          "output_type": "stream",
          "name": "stdout",
          "text": [
            "param1: shubhankar, param2: harsh\n"
          ]
        }
      ]
    },
    {
      "cell_type": "markdown",
      "source": [
        "4) Explain the `__init__` method in Python and its role in constructors.\n",
        "\n",
        "Here are the key points about the __init__ method and its role in constructors:\n",
        "\n",
        "Initialization: The __init__ method is responsible for initializing the object's attributes. It is the place where you can set the initial state of the object by assigning values to its attributes.\n",
        "\n",
        "Automatically Called: The __init__ method is automatically called when you create an instance of a class. You don't need to call it explicitly; Python handles this for you.\n",
        "\n",
        "Self Parameter: The self parameter is the first parameter of the __init__ method. It is a reference to the object being created. You use self to access and modify the object's attributes. By convention, you name it self, but you can technically use any name you prefer.\n",
        "\n",
        "Customization: You can define the __init__ method to accept parameters. These parameters allow you to customize the initial state of the object based on external input. This makes it flexible and versatile.\n",
        "\n",
        "Default Constructor: If you don't define a constructor in your class, Python provides a default parameterless constructor. However, it's common practice to define your own constructor to ensure that your objects are initialized as desired."
      ],
      "metadata": {
        "id": "zTSJfW_B672P"
      }
    },
    {
      "cell_type": "code",
      "source": [
        "#5 In a class named `Person`, create a constructor that initializes the `name` and `age` attributes. Provide an example of creating an object of this class.\n",
        "class person:\n",
        "  def __init__(self, name, age):\n",
        "    self.name = name\n",
        "    self.age = age\n",
        "\n",
        "  def person_details(self):\n",
        "    print(f\"person name: {self.name}, person age: {self.age}\")\n",
        "\n",
        "p1 = person(\"Hitesh\", 20)\n",
        "p1.person_details()"
      ],
      "metadata": {
        "colab": {
          "base_uri": "https://localhost:8080/"
        },
        "id": "JWzlHKqf7C5h",
        "outputId": "a42fd337-fd19-4cd3-d12f-7ec6c939a0ee"
      },
      "execution_count": null,
      "outputs": [
        {
          "output_type": "stream",
          "name": "stdout",
          "text": [
            "person name: Hitesh, person age: 20\n"
          ]
        }
      ]
    },
    {
      "cell_type": "code",
      "source": [
        "#6. How can you call a constructor explicitly in Python? Give an example.\n",
        "class ParentClass:\n",
        "    def __init__(self, param1):\n",
        "        self.param1 = param1\n",
        "\n",
        "class ChildClass(ParentClass):\n",
        "    def __init__(self, param1, param2):\n",
        "        super().__init__(param1)\n",
        "        self.param2 = param2\n",
        "\n",
        "child_obj = ChildClass(\"Value1\", \"Value2\")"
      ],
      "metadata": {
        "id": "1oJ5vIhA8u5M"
      },
      "execution_count": null,
      "outputs": []
    },
    {
      "cell_type": "code",
      "source": [
        "#7. What is the significance of the `self` parameter in Python constructors? Explain with an example.\n",
        "class Person:\n",
        "    def __init__(self, name, age):\n",
        "        self.name = name  # self.name is an instance variable\n",
        "        self.age = age    # self.age is an instance variable\n",
        "\n",
        "    def introduce(self):\n",
        "        return f\"My name is {self.name} and I am {self.age} years old.\"\n",
        "\n",
        "# Creating an object of the Person class\n",
        "person1 = Person(\"Alice\", 30)\n",
        "\n",
        "# Accessing instance variables using 'self'\n",
        "name_of_person1 = person1.name\n",
        "age_of_person1 = person1.age\n",
        "\n",
        "# Calling a method using 'self'\n",
        "introduction = person1.introduce()\n",
        "\n",
        "print(name_of_person1)  # Output: \"Alice\"\n",
        "print(age_of_person1)   # Output: 30\n",
        "print(introduction)    # Output: \"My name is Alice and I am 30 years old.\"\n"
      ],
      "metadata": {
        "colab": {
          "base_uri": "https://localhost:8080/"
        },
        "id": "hk_7jvFk9ttg",
        "outputId": "4338faa8-2ed7-4eb4-f79c-f9810ed284c6"
      },
      "execution_count": null,
      "outputs": [
        {
          "output_type": "stream",
          "name": "stdout",
          "text": [
            "Alice\n",
            "30\n",
            "My name is Alice and I am 30 years old.\n"
          ]
        }
      ]
    },
    {
      "cell_type": "markdown",
      "source": [
        "8) Discuss the concept of default constructors in Python. When are they used?\n",
        "\n",
        "Here's how default constructors work and when they are used:\n",
        "\n",
        "When No Constructor is Defined: If you create a class and don't define any constructor, Python automatically provides a default constructor. This default constructor doesn't initialize any attributes or perform any custom actions.\n",
        "\n",
        "Parameterless: The default constructor has the form def __init__(self):, and it only includes the self parameter, which is used to reference the object.\n",
        "\n",
        "Basic Initialization: Since it's parameterless, the default constructor doesn't allow you to initialize the object's attributes with specific values. As a result, the object's attributes will have default values, often None for uninitialized attributes."
      ],
      "metadata": {
        "id": "45065jhZ_zgc"
      }
    },
    {
      "cell_type": "code",
      "source": [
        "#9 Create a Python class called `Rectangle` with a constructor that initializes the `width` and `height` attributes. Provide a method to calculate the area of the rectangle.\n",
        "class Rectangle:\n",
        "  def __init__(self, width, height):\n",
        "    self.width = width\n",
        "    self.height = height\n",
        "\n",
        "  def area(self):\n",
        "    print(f\"the area of rectangle is: {self.width * self.height}\")\n",
        "\n",
        "rect1 = Rectangle(10, 15)\n",
        "rect1.area()"
      ],
      "metadata": {
        "colab": {
          "base_uri": "https://localhost:8080/"
        },
        "id": "0hW4E9MGAALM",
        "outputId": "21444024-be10-4e2e-da5f-44cfa2e34aca"
      },
      "execution_count": null,
      "outputs": [
        {
          "output_type": "stream",
          "name": "stdout",
          "text": [
            "the area of rectangle is: 150\n"
          ]
        }
      ]
    },
    {
      "cell_type": "code",
      "source": [
        "#10 How can you have multiple constructors in a Python class? Explain with an example.\n",
        "class Person:\n",
        "    def __init__(self, name=None, age=None, gender=None):\n",
        "        self.name = name\n",
        "        self.age = age\n",
        "        self.gender = gender\n",
        "\n",
        "\n",
        "person1 = Person(\"Alice\", 30)\n",
        "person2 = Person(\"Bob\")\n",
        "person3 = Person(gender=\"Female\")\n",
        "\n",
        "print(person1.name, person1.age, person1.gender)\n",
        "print(person2.name, person2.age, person2.gender)\n",
        "print(person3.name, person3.age, person3.gender)\n"
      ],
      "metadata": {
        "colab": {
          "base_uri": "https://localhost:8080/"
        },
        "id": "QOm8fS03A1BQ",
        "outputId": "2c8eacff-83a2-4312-a3ad-40d05765079e"
      },
      "execution_count": null,
      "outputs": [
        {
          "output_type": "stream",
          "name": "stdout",
          "text": [
            "Alice 30 None\n",
            "Bob None None\n",
            "None None Female\n"
          ]
        }
      ]
    },
    {
      "cell_type": "code",
      "source": [
        "#11 What is method overloading, and how is it related to constructors in Python?\n",
        "class MyClass:\n",
        "    def __init__(self, param1=None, param2=None):\n",
        "        self.attribute1 = param1\n",
        "        self.attribute2 = param2\n",
        "\n",
        "obj1 = MyClass(\"Value1\", \"Value2\")\n",
        "obj2 = MyClass(\"Value1\")\n",
        "obj3 = MyClass()\n",
        "\n",
        "# obj1.attribute1 is \"Value1\" and obj1.attribute2 is \"Value2\"\n",
        "# obj2.attribute1 is \"Value1\" and obj2.attribute2 is None (default value)\n",
        "# obj3.attribute1 and obj3.attribute2 are both None (default values)\n"
      ],
      "metadata": {
        "id": "RkwfmmPjBARN"
      },
      "execution_count": null,
      "outputs": []
    },
    {
      "cell_type": "code",
      "source": [
        "#12 Explain the use of the `super()` function in Python constructors. Provide an example.\n",
        "class employee:\n",
        "  def __init__(self, name, id):\n",
        "    self.name = name\n",
        "    self.id = id\n",
        "\n",
        "class programmer(employee):\n",
        "  def __init__(self, name, id, language):\n",
        "    super().__init__(name, id)\n",
        "    self.language = language\n",
        "\n",
        "rohan = employee(\"rohan gupta\", 1234)\n",
        "shivam = programmer(\"shivam kumar\", 1235, \"python\")\n",
        "print(shivam.name)\n",
        "print(shivam.id)\n",
        "print(shivam.language)\n"
      ],
      "metadata": {
        "colab": {
          "base_uri": "https://localhost:8080/"
        },
        "id": "SXSwDCqLDEDL",
        "outputId": "0448a83a-b41d-43a6-f4d4-bb003dffccb0"
      },
      "execution_count": null,
      "outputs": [
        {
          "output_type": "stream",
          "name": "stdout",
          "text": [
            "shivam kumar\n",
            "1235\n",
            "python\n"
          ]
        }
      ]
    },
    {
      "cell_type": "code",
      "source": [
        "#13. Create a class called `Book` with a constructor that initializes the `title`, `author`, and `published_year` attributes. Provide a method to display book details.\n",
        "class book:\n",
        "  def __init__(self, title, author, published_year):\n",
        "    self.title = title\n",
        "    self.author = author\n",
        "    self.published_year = published_year\n",
        "\n",
        "  def book_details(self):\n",
        "    print(f\"title of the book: {self.title}\")\n",
        "    print(f\"author of the book: {self.author}\")\n",
        "    print(f\"published year: {self.published_year}\")\n",
        "    print(\"------------------------\")\n",
        "\n",
        "harry_potter = book(\"harry potter\", \"J K rowling\", \"2001\")\n",
        "print(harry_potter.book_details())"
      ],
      "metadata": {
        "id": "WbA_kVOfDl1f",
        "colab": {
          "base_uri": "https://localhost:8080/"
        },
        "outputId": "2e41248b-da62-4cde-fa91-ac84c92e7a75"
      },
      "execution_count": null,
      "outputs": [
        {
          "output_type": "stream",
          "name": "stdout",
          "text": [
            "title of the book: harry potter\n",
            "author of the book: J K rowling\n",
            "published year: 2001\n",
            "------------------------\n",
            "None\n"
          ]
        }
      ]
    },
    {
      "cell_type": "markdown",
      "source": [
        "14) Discuss the differences between constructors and regular methods in Python classes.\n",
        "\n",
        "Constructor:\n",
        "\n",
        "Name: The constructor method is named __init__. It is automatically called when an instance of the class is created.\n",
        "Purpose: Constructors are used to initialize the attributes of an object. They are often used to set up the initial state of an instance.\n",
        "Parameters: The constructor typically takes self as its first parameter, which refers to the instance being created, along with other parameters that you want to initialize the object with.\n",
        "\n",
        "Regular Method:\n",
        "\n",
        "Name: Regular methods in Python classes can have any name you choose, but they do not have the __init__ name.\n",
        "Purpose: Regular methods are used to perform actions or provide functionality specific to the class. They can be called on instances of the class.\n",
        "Parameters: They typically take self as the first parameter, referring to the instance on which the method is called, and can take additional parameters as needed.\n",
        "\n"
      ],
      "metadata": {
        "id": "Y3BA6CQRTX-0"
      }
    },
    {
      "cell_type": "markdown",
      "source": [
        "15) Explain the role of the `self` parameter in instance variable initialization within a constructor.\n",
        "\n",
        "The self parameter in a constructor (or any instance method) plays a crucial role in initializing instance variables within a class in Python. It's a convention in Python to name the first parameter of instance methods as self, although you could technically choose any name for it. The self parameter is a reference to the instance of the class on which the method is called."
      ],
      "metadata": {
        "id": "vTbCu0hqT83S"
      }
    },
    {
      "cell_type": "markdown",
      "source": [
        "16) How do you prevent a class from having multiple instances by using constructors in Python? Provide an example.\n",
        "\n",
        "In Python, you can prevent a class from having multiple instances by using a design pattern called the Singleton pattern. The Singleton pattern ensures that a class has only one instance, no matter how many times you try to create new instances of it. To achieve this, you can override the __new__ method in Python, which is responsible for creating new instances, and use a class variable to keep track of whether an instance has been created before."
      ],
      "metadata": {
        "id": "RPq8MGt6UNrW"
      }
    },
    {
      "cell_type": "code",
      "source": [
        "#17. Create a Python class called `Student` with a constructor that takes a list of subjects as a parameter and initializes the `subjects` attribute\n",
        "class student:\n",
        "  def __init__(self, subjects):\n",
        "    self.subjects = subjects\n",
        "\n",
        "student1 = student([\"maths\", \"english\", \"science\", \"soft skills\"])"
      ],
      "metadata": {
        "id": "dvRVGWAPUdjJ"
      },
      "execution_count": null,
      "outputs": []
    },
    {
      "cell_type": "markdown",
      "source": [
        " 18) What is the purpose of the `__del__` method in Python classes, and how does it relate to constructors?\n",
        "\n",
        " The __del__ method in Python is used to define the cleanup actions that should be performed when an object of a class is about to be destroyed. This method is called a destructor, and it is the opposite of a constructor (__init__ method). While constructors are responsible for initializing an object, the __del__ method is called just before the object is removed from memory."
      ],
      "metadata": {
        "id": "uuI7TyeMsFag"
      }
    },
    {
      "cell_type": "code",
      "source": [
        "#19 Explain the use of constructor chaining in Python. Provide a practical example.\n",
        "class Person:\n",
        "    def __init__(self, first_name, last_name):\n",
        "        self.first_name = first_name\n",
        "        self.last_name = last_name\n",
        "\n",
        "    def get_full_name(self):\n",
        "        return f\"{self.first_name} {self.last_name}\"\n",
        "\n",
        "class Student(Person):\n",
        "    def __init__(self, first_name, last_name, student_id):\n",
        "        super().__init__(first_name, last_name)\n",
        "        self.student_id = student_id\n",
        "\n",
        "    def get_student_info(self):\n",
        "        return f\"Student ID: {self.student_id}, Name: {self.get_full_name()}\"\n",
        "\n",
        "student = Student(\"John\", \"Doe\", \"12345\")\n",
        "\n",
        "print(student.get_student_info())\n"
      ],
      "metadata": {
        "id": "UCamsAu3VOXu",
        "colab": {
          "base_uri": "https://localhost:8080/"
        },
        "outputId": "ca7c763f-fa06-435c-a2dc-f19382f824a1"
      },
      "execution_count": null,
      "outputs": [
        {
          "output_type": "stream",
          "name": "stdout",
          "text": [
            "Student ID: 12345, Name: John Doe\n"
          ]
        }
      ]
    },
    {
      "cell_type": "code",
      "source": [
        "#20 Create a Python class called `Car` with a default constructor that initializes the `make` and `model` attributes. Provide a method to display car information.\n",
        "class Car:\n",
        "    def __init__(self, make, model):\n",
        "        self.make = make\n",
        "        self.model = model\n",
        "\n",
        "    def display_info(self):\n",
        "        return f\"Make: {self.make}, Model: {self.model}\"\n",
        "\n",
        "# Create a Car object\n",
        "my_car = Car(\"Toyota\", \"Camry\")\n",
        "\n",
        "# Display car information\n",
        "print(my_car.display_info())\n"
      ],
      "metadata": {
        "colab": {
          "base_uri": "https://localhost:8080/"
        },
        "id": "z8t9Tc2vvYK1",
        "outputId": "a493f374-28ff-4980-9820-95a61e330b73"
      },
      "execution_count": null,
      "outputs": [
        {
          "output_type": "stream",
          "name": "stdout",
          "text": [
            "Make: Toyota, Model: Camry\n"
          ]
        }
      ]
    },
    {
      "cell_type": "markdown",
      "source": [
        "INHERITANCE"
      ],
      "metadata": {
        "id": "fbKRNPsrvpMq"
      }
    },
    {
      "cell_type": "markdown",
      "source": [
        "1) What is inheritance in Python? Explain its significance in object-oriented programming.\n",
        "\n",
        "Inheritance in Python is a fundamental concept in object-oriented programming (OOP) that allows one class to inherit the properties and behaviors (attributes and methods) of another class. It is a mechanism that promotes code reuse and establishes relationships between classes, creating a hierarchy of classes based on their similarities and differences. The class that inherits from another class is called the \"subclass\" or \"derived class,\" and the class being inherited from is called the \"superclass\" or \"base class.\""
      ],
      "metadata": {
        "id": "3n_cPgZ_vycS"
      }
    },
    {
      "cell_type": "code",
      "source": [
        "#2 Differentiate between single inheritance and multiple inheritance in Python. Provide examples for each.\n",
        "\n",
        "#SINGLE INHERITANCE\n",
        "class Animal:\n",
        "    def speak(self):\n",
        "        pass\n",
        "\n",
        "class Dog(Animal):\n",
        "    def speak(self):\n",
        "        return \"Woof!\"\n",
        "\n",
        "class Cat(Animal):\n",
        "    def speak(self):\n",
        "        return \"Meow!\"\n",
        "\n",
        "\n",
        "#MULTIPLE INHERITANCE\n",
        "class Flyer:\n",
        "    def fly(self):\n",
        "        return \"Flying high!\"\n",
        "\n",
        "class Swimmer:\n",
        "    def swim(self):\n",
        "        return \"Swimming gracefully!\"\n",
        "\n",
        "class Bird(Flyer, Swimmer):\n",
        "    def speak(self):\n",
        "        return \"Chirp!\"\n",
        "\n",
        "class Fish(Swimmer):\n",
        "    def speak(self):\n",
        "        return \"Bubble bubble!\"\n",
        "\n",
        "# Bird inherits from both Flyer and Swimmer\n",
        "bird = Bird()\n",
        "print(bird.fly())   # Output: \"Flying high!\"\n",
        "print(bird.swim())  # Output: \"Swimming gracefully!\"\n",
        "\n",
        "# Fish inherits from Swimmer only\n",
        "fish = Fish()\n",
        "print(fish.swim())  # Output: \"Swimming gracefully!\"\n"
      ],
      "metadata": {
        "colab": {
          "base_uri": "https://localhost:8080/"
        },
        "id": "fvLeWrtOveJe",
        "outputId": "b6d28708-e3dd-4496-9ead-cd5da97386a2"
      },
      "execution_count": null,
      "outputs": [
        {
          "output_type": "stream",
          "name": "stdout",
          "text": [
            "Flying high!\n",
            "Swimming gracefully!\n",
            "Swimming gracefully!\n"
          ]
        }
      ]
    },
    {
      "cell_type": "code",
      "source": [
        "#3 Create a Python class called `Vehicle` with attributes `color` and `speed`. Then, create a child class called `Car` that inherits from `Vehicle` and adds a `brand` attribute. Provide an example of creating a `Car` object\n",
        "class vehicle:\n",
        "  def __init__(self, color, speed):\n",
        "    self.color = color\n",
        "    self.speed = speed\n",
        "\n",
        "class car(vehicle):\n",
        "  def __init__(self, color, speed, brand):\n",
        "    super().__init__(color, speed)\n",
        "    self.brand = brand\n",
        "\n",
        "car1 = car(\"white\", 200, \"toyota\")\n"
      ],
      "metadata": {
        "id": "T8PLHX9lxF_N"
      },
      "execution_count": null,
      "outputs": []
    },
    {
      "cell_type": "code",
      "source": [
        "#4 Explain the concept of method overriding in inheritance. Provide a practical example\n",
        "class Animal:\n",
        "    def speak(self):\n",
        "        return \"Animal makes a sound\"\n",
        "\n",
        "class Dog(Animal):\n",
        "    def speak(self):\n",
        "        return \"Dog barks\"\n",
        "\n",
        "class Cat(Animal):\n",
        "    def speak(self):\n",
        "        return \"Cat meows\"\n",
        "\n",
        "dog = Dog()\n",
        "cat = Cat()\n",
        "\n",
        "print(dog.speak())\n",
        "print(cat.speak())\n"
      ],
      "metadata": {
        "colab": {
          "base_uri": "https://localhost:8080/"
        },
        "id": "gZu-XhMZxRs8",
        "outputId": "87bc50f5-c5d6-4802-f264-3138aa2833d6"
      },
      "execution_count": null,
      "outputs": [
        {
          "output_type": "stream",
          "name": "stdout",
          "text": [
            "Dog barks\n",
            "Cat meows\n"
          ]
        }
      ]
    },
    {
      "cell_type": "code",
      "source": [
        "#5 How can you access the methods and attributes of a parent class from a child class in Python? Give an example.\n",
        "class parent:\n",
        "  def __init__(self, name):\n",
        "    self.name = name\n",
        "\n",
        "  def greet(self):\n",
        "    return f\"hello I am {self.name}\"\n",
        "\n",
        "class child(parent):\n",
        "  def __init__(self, name, hobby):\n",
        "    super().__init__(name)\n",
        "    self.hobby = hobby\n",
        "\n",
        "  def introduce(self):\n",
        "    parent_greeting = super().greet()\n",
        "    return f\"{parent_greeting}, I like {self.hobby}.\"\n",
        "\n",
        "kid = child(\"hitesh\", \"painting\")\n",
        "print(kid.name)\n",
        "print(kid.introduce())"
      ],
      "metadata": {
        "colab": {
          "base_uri": "https://localhost:8080/"
        },
        "id": "ywxq4w1KU8d8",
        "outputId": "b32cd44e-00c2-4c99-d8b5-bc9cd87dd89c"
      },
      "execution_count": null,
      "outputs": [
        {
          "output_type": "stream",
          "name": "stdout",
          "text": [
            "hitesh\n",
            "hello I am hitesh, I like painting.\n"
          ]
        }
      ]
    },
    {
      "cell_type": "code",
      "source": [
        "#6 How can you access the methods and attributes of a parent class from a child class in Python? Give an example.\n",
        "class Parent:\n",
        "    def __init__(self, name):\n",
        "        self.name = name\n",
        "\n",
        "    def greet(self):\n",
        "        return f\"Hello, I am {self.name}\"\n",
        "\n",
        "class Child(Parent):\n",
        "    def __init__(self, name, hobby):\n",
        "        super().__init__(name)\n",
        "        self.hobby = hobby\n",
        "\n",
        "    def introduce(self):\n",
        "        parent_greeting = super().greet()\n",
        "        return f\"{parent_greeting}. I like {self.hobby}.\"\n",
        "\n",
        "    def parent_attribute(self):\n",
        "        return f\"Parent's name: {self.name}\"\n",
        "\n",
        "child = Child(\"Alice\", \"painting\")\n",
        "\n",
        "print(child.name)\n",
        "print(child.introduce())\n",
        "print(child.parent_attribute())\n"
      ],
      "metadata": {
        "colab": {
          "base_uri": "https://localhost:8080/"
        },
        "id": "czxH5Pc8XEep",
        "outputId": "090d9462-bd3e-4db3-dce8-44996a2c6773"
      },
      "execution_count": null,
      "outputs": [
        {
          "output_type": "stream",
          "name": "stdout",
          "text": [
            "Alice\n",
            "Hello, I am Alice. I like painting.\n",
            "Parent's name: Alice\n"
          ]
        }
      ]
    },
    {
      "cell_type": "code",
      "source": [
        "#7. Create a Python class called `Animal` with a method `speak()`. Then, create child classes `Dog` and `Cat` that inherit from `Animal` and override the `speak()` method.\n",
        "#   Provide an example of using these classes.\n",
        "class animal:\n",
        "  def speak(self):\n",
        "    return f\"animal make a sound\"\n",
        "\n",
        "class dog(animal):\n",
        "  def speak(self):\n",
        "    return f\"dog barks\"\n",
        "\n",
        "class cat(animal):\n",
        "  def speak(self):\n",
        "    return f\"cat meows\"\n",
        "\n",
        "dog1 = dog()\n",
        "cat1 = cat()\n",
        "print(dog1.speak())\n",
        "print(cat1.speak())"
      ],
      "metadata": {
        "colab": {
          "base_uri": "https://localhost:8080/"
        },
        "id": "Js8oNHJla1id",
        "outputId": "03cf0d39-2863-45d6-ab66-d95ad170abf8"
      },
      "execution_count": null,
      "outputs": [
        {
          "output_type": "stream",
          "name": "stdout",
          "text": [
            "dog barks\n",
            "cat meows\n"
          ]
        }
      ]
    },
    {
      "cell_type": "code",
      "source": [
        "#8  Explain the role of the `isinstance()` function in Python and how it relates to inheritance.\n",
        "class Vehicle:\n",
        "    def move(self):\n",
        "        return \"Vehicle is moving\"\n",
        "\n",
        "class Car(Vehicle):\n",
        "    def move(self):\n",
        "        return \"Car is moving\"\n",
        "\n",
        "class Bicycle(Vehicle):\n",
        "    def move(self):\n",
        "        return \"Bicycle is moving\"\n",
        "\n",
        "vehicle = Vehicle()\n",
        "car = Car()\n",
        "bicycle = Bicycle()\n",
        "\n",
        "print(isinstance(vehicle, Vehicle))\n",
        "print(isinstance(car, Car))\n",
        "print(isinstance(bicycle, Bicycle))\n",
        "\n",
        "print(isinstance(car, Vehicle))\n",
        "print(isinstance(bicycle, Vehicle))\n",
        "\n",
        "vehicles = [vehicle, car, bicycle]\n",
        "for v in vehicles:\n",
        "    print(v.move())\n"
      ],
      "metadata": {
        "colab": {
          "base_uri": "https://localhost:8080/"
        },
        "id": "kqRhaIJWbLvD",
        "outputId": "a52951ac-b405-4a7a-81b0-51d042f565bb"
      },
      "execution_count": null,
      "outputs": [
        {
          "output_type": "stream",
          "name": "stdout",
          "text": [
            "True\n",
            "True\n",
            "True\n",
            "True\n",
            "True\n",
            "Vehicle is moving\n",
            "Car is moving\n",
            "Bicycle is moving\n"
          ]
        }
      ]
    },
    {
      "cell_type": "code",
      "source": [
        "#9. What is the purpose of the `issubclass()` function in Python? Provide an example.\n",
        "class Vehicle:\n",
        "    def move(self):\n",
        "        return \"Vehicle is moving\"\n",
        "\n",
        "class Car(Vehicle):\n",
        "    def move(self):\n",
        "        return \"Car is moving\"\n",
        "\n",
        "class Bicycle(Vehicle):\n",
        "    def move(self):\n",
        "        return \"Bicycle is moving\"\n",
        "\n",
        "print(issubclass(Car, Vehicle))\n",
        "print(issubclass(Bicycle, Vehicle))"
      ],
      "metadata": {
        "colab": {
          "base_uri": "https://localhost:8080/"
        },
        "id": "4g80zmfQiXR-",
        "outputId": "cb3690dc-bdc7-445c-9c50-5e17ff1097ba"
      },
      "execution_count": null,
      "outputs": [
        {
          "output_type": "stream",
          "name": "stdout",
          "text": [
            "True\n",
            "True\n"
          ]
        }
      ]
    },
    {
      "cell_type": "code",
      "source": [
        "#10. Discuss the concept of constructor inheritance in Python. How are constructors inherited in child classes?\n",
        "class Parent:\n",
        "    def __init__(self, name):\n",
        "        self.name = name\n",
        "        print(\"Parent Constructor\")\n",
        "\n",
        "class Child(Parent):\n",
        "    def __init__(self, name, age):\n",
        "        super().__init__(name)  # Call the parent class constructor\n",
        "        self.age = age\n",
        "        print(\"Child Constructor\")\n",
        "\n",
        "child = Child(\"Alice\", 10)\n"
      ],
      "metadata": {
        "colab": {
          "base_uri": "https://localhost:8080/"
        },
        "id": "9pjujmPkiwkD",
        "outputId": "16ad4a86-6022-400a-8fa5-74d19e051b06"
      },
      "execution_count": null,
      "outputs": [
        {
          "output_type": "stream",
          "name": "stdout",
          "text": [
            "Parent Constructor\n",
            "Child Constructor\n"
          ]
        }
      ]
    },
    {
      "cell_type": "code",
      "source": [
        "#11. Create a Python class called `Shape` with a method `area()` that calculates the area of a shape. Then, create child classes `Circle` and `Rectangle`\n",
        "#    that inherit from `Shape` and implement the `area()` method accordingly. Provide an example.\n",
        "import math\n",
        "\n",
        "class Shape:\n",
        "    def __init__(self):\n",
        "        pass\n",
        "\n",
        "    def area(self):\n",
        "        raise NotImplementedError(\"Area calculation not implemented for the base Shape class.\")\n",
        "\n",
        "class Circle(Shape):\n",
        "    def __init__(self, radius):\n",
        "        self.radius = radius\n",
        "\n",
        "    def area(self):\n",
        "        return math.pi * self.radius * self.radius\n",
        "\n",
        "class Rectangle(Shape):\n",
        "    def __init__(self, length, width):\n",
        "        self.length = length\n",
        "        self.width = width\n",
        "\n",
        "    def area(self):\n",
        "        return self.length * self.width\n",
        "\n",
        "circle = Circle(5)\n",
        "rectangle = Rectangle(10, 6)\n",
        "\n",
        "print(\"Circle area:\", circle.area())\n",
        "print(\"Rectangle area:\", rectangle.area())"
      ],
      "metadata": {
        "colab": {
          "base_uri": "https://localhost:8080/"
        },
        "id": "5nGNRTbIFiXN",
        "outputId": "87fd98da-3e01-4d14-c22d-c8a6ddb83a03"
      },
      "execution_count": null,
      "outputs": [
        {
          "output_type": "stream",
          "name": "stdout",
          "text": [
            "Circle area: 78.53981633974483\n",
            "Rectangle area: 60\n"
          ]
        }
      ]
    },
    {
      "cell_type": "code",
      "source": [
        "#12 Explain the use of abstract base classes (ABCs) in Python and how they relate to inheritance. Provide an example using the `abc` module.\n",
        "from abc import ABC, abstractmethod\n",
        "\n",
        "class Shape(ABC):\n",
        "    @abstractmethod\n",
        "    def area(self):\n",
        "        pass\n",
        "\n",
        "class Circle(Shape):\n",
        "    def __init__(self, radius):\n",
        "        self.radius = radius\n",
        "\n",
        "    def area(self):\n",
        "        return math.pi * self.radius * self.radius\n",
        "\n",
        "class Rectangle(Shape):\n",
        "    def __init__(self, length, width):\n",
        "        self.length = length\n",
        "        self.width = width\n",
        "\n",
        "    def area(self):\n",
        "        return self.length * self.width\n"
      ],
      "metadata": {
        "id": "nodO3KHLFvSX"
      },
      "execution_count": null,
      "outputs": []
    },
    {
      "cell_type": "markdown",
      "source": [
        "13. How can you prevent a child class from modifying certain attributes or methods inherited from a parent class in Python?\n",
        "\n",
        "\n",
        "Preventing a child class from modifying certain attributes or methods inherited from a parent class in Python can be achieved using various techniques, depending on the specific requirements and the desired level of restriction. Here are a few approaches:\n",
        "\n",
        "1. Read-only attributes: Decorate the attributes in the parent class with the @property decorator and implement the getter method to return the attribute value but not allow modification. This method ensures that child classes can access the attribute but cannot directly assign a new value.\n",
        "\n",
        "2. Private methods: Implement the methods in the parent class as private methods using the __ prefix before the method name. This prevents direct access to the method from child classes, forcing them to implement their own versions or override the method behavior through super() calls.\n",
        "\n",
        "3. Abstract methods: Define the methods in the parent class as abstract methods using the abc module and the @abstractmethod decorator. This requires child classes to provide their own implementation of the abstract methods, preventing them from inheriting the default implementation from the parent class.\n",
        "\n",
        "4. Protected attributes and methods: Use the _ prefix before the attribute or method name in the parent class to make them protected. This allows child classes within the same inheritance hierarchy to access and modify the protected attributes and methods, but prevents external classes from directly modifying them.\n",
        "\n",
        "5. Inheritance with property delegation: Implement properties in the child class that delegate the attribute access to the parent class. This allows child classes to provide their own behavior for setting or getting the attribute value while still relying on the parent class for the underlying data storage.\n",
        "\n",
        "6. Inheritance with method overriding: Override the methods in the child class that need to be modified. This allows child classes to customize the behavior of inherited methods without affecting the parent class implementation."
      ],
      "metadata": {
        "id": "wbLuSptpIw_3"
      }
    },
    {
      "cell_type": "code",
      "source": [
        "#13. Create a Python class called `Employee` with attributes `name` and `salary`.\n",
        "# Then, create a child class `Manager` that inherits from `Employee` and adds an attribute `department`. Provide an example.\n",
        "\n",
        "class Employee:\n",
        "    def __init__(self, name, salary):\n",
        "        self.name = name\n",
        "        self.salary = salary\n",
        "\n",
        "    def get_name(self):\n",
        "        return self.name\n",
        "\n",
        "    def get_salary(self):\n",
        "        return self.salary\n",
        "\n",
        "class Manager(Employee):\n",
        "    def __init__(self, name, salary, department):\n",
        "        super().__init__(name, salary)\n",
        "        self.department = department\n",
        "\n",
        "    def get_department(self):\n",
        "        return self.department\n",
        "\n",
        "# Example usage\n",
        "employee = Employee(\"Shubhankar Kumar \", 500000)\n",
        "manager = Manager(\"hitesh Pandey\", 600000, \"Engineering\")\n",
        "\n",
        "print(\"Employee name:\", employee.get_name())\n",
        "print(\"Employee salary:\", employee.get_salary())\n",
        "print(\"Manager name:\", manager.get_name())\n",
        "print(\"Manager salary:\", manager.get_salary())\n",
        "print(\"Manager department:\", manager.get_department())\n",
        "\n",
        "\n"
      ],
      "metadata": {
        "colab": {
          "base_uri": "https://localhost:8080/"
        },
        "id": "JWhuQIl7IpM9",
        "outputId": "6f174395-ba4b-4c99-9da1-66b9ee667b49"
      },
      "execution_count": null,
      "outputs": [
        {
          "output_type": "stream",
          "name": "stdout",
          "text": [
            "Employee name: Shubhankar Kumar \n",
            "Employee salary: 500000\n",
            "Manager name: hitesh Pandey\n",
            "Manager salary: 600000\n",
            "Manager department: Engineering\n"
          ]
        }
      ]
    },
    {
      "cell_type": "markdown",
      "source": [
        "15. Discuss the concept of method overloading in Python inheritance. How does it differ from method overriding?\n",
        "\n",
        "\n",
        "Method overloading and method overriding are two fundamental concepts in object-oriented programming that allow for the creation of flexible and reusable code. While they share some similarities, they differ in their purpose and implementation.\n",
        "\n",
        "Method Overloading\n",
        "\n",
        "Method overloading refers to the ability to define multiple methods with the same name but different parameter lists within the same class. This allows for the same method name to be used for different operations, depending on the type or number of arguments passed to it.\n",
        "\n",
        "In Python, method overloading is not directly supported. However, it can be achieved using various techniques, such as using the *args and **kwargs syntax for variable-length argument lists or employing decorators to dynamically dispatch method calls based on argument types.\n",
        "\n",
        "Method Overriding\n",
        "\n",
        "Method overriding refers to the ability of a subclass to redefine a method that is already defined in a parent class. This allows for specialization of behavior for specific subclasses while maintaining the overall structure of the class hierarchy.\n",
        "\n",
        "In Python, method overriding is a common and supported feature. When a method with the same name and signature exists in both a subclass and its parent class, the method in the subclass takes precedence when called on an object of that subclass.\n",
        "\n",
        "Key Differences\n",
        "\n",
        "The key differences between method overloading and method overriding are:\n",
        "\n",
        "1. Purpose: Method overloading focuses on providing multiple operations under the same method name, while method overriding focuses on customizing behavior for specific subclasses.\n",
        "\n",
        "2. Implementation: Method overloading is not directly supported in Python but can be achieved using techniques like *args, **kwargs, or decorators. Method overriding is a built-in feature of Python and is directly supported through method name and signature matching.\n",
        "\n",
        "3. Inheritance Relationship: Method overloading typically occurs within the same class, while method overriding occurs between a subclass and its parent class.\n",
        "\n",
        "4. Dynamic Dispatch: Method overloading may involve dynamic dispatch based on argument types, while method overriding relies on the class hierarchy to determine the appropriate method implementation.\n",
        "\n",
        "5. In summary, method overloading and method overriding are both valuable techniques for creating flexible and reusable code. Method overloading provides a way to have multiple operations under the same name, while method overriding allows for specialization of behavior in subclasses. The choice between the two depends on the specific requirements and the desired level of flexibility and customization."
      ],
      "metadata": {
        "id": "jODGOdyEPmMO"
      }
    },
    {
      "cell_type": "markdown",
      "source": [
        "16. Explain the purpose of the `__init__()` method in Python inheritance and how it is utilized in child classes.\n",
        "\n",
        "\n",
        "The __init__() method, also known as the constructor, is a special method that is called automatically when an object of a class is created. It is used to initialize the attributes of the object and perform any necessary setup tasks. In Python inheritance, the __init__() method plays a crucial role in initializing and customizing objects of child classes.\n",
        "\n",
        "Purpose of __init__() in Child Classes\n",
        "\n",
        "1. Initialize Attributes: The __init__() method in child classes allows for the initialization of attributes specific to that child class. This ensures that each object created from the child class has its own instance variables with appropriate values.\n",
        "\n",
        "2. Customize Behavior: The __init__() method provides a way to customize the initialization process for child classes. This allows for additional steps or checks to be performed before the object is fully initialized.\n",
        "\n",
        "Utilizing __init__() in Child Classes\n",
        "\n",
        "1. Calling Parent's __init__(): To ensure proper initialization of inherited attributes, it is recommended to call the parent class's __init__() method using the super().__init__() syntax. This ensures that the child class object receives the necessary initialization from the parent class.\n",
        "\n",
        "2. Initializing Child-Specific Attributes: After calling the parent's __init__(), the child class's __init__() can initialize attributes specific to the child class. This ensures that the child class object has its own instance variables with appropriate values.\n",
        "\n",
        "3. Customizing Initialization: The __init__() method of the child class can perform any additional initialization tasks or checks required for the specific child class. This allows for tailored behavior during object creation."
      ],
      "metadata": {
        "id": "xewtL0oCSlo3"
      }
    },
    {
      "cell_type": "code",
      "source": [
        "#17. Create a Python class called `Bird` with a method `fly()`. Then, create child classes `Eagle` and `Sparrow`\n",
        "# that inherit from `Bird` and implement the `fly()` method differently. Provide an example of using these classes.\n",
        "class Bird:\n",
        "  def __init__(self, name):\n",
        "    self.name = name\n",
        "\n",
        "  def fly(self):\n",
        "    print(f\"{self.name} is flying\")\n",
        "\n",
        "class Eagle(Bird):\n",
        "  def fly(self):\n",
        "    print(f\"Eagle named {self.name} is flying\")\n",
        "\n",
        "class Sparrow(Bird):\n",
        "  def fly(self):\n",
        "    print(f\"Sparrow named {self.name} is flying\")\n",
        "\n",
        "eagle = Eagle(\"Eagle1\")\n",
        "sparrow = Sparrow(\"Sparrow1\")\n",
        "\n",
        "eagle.fly()\n",
        "sparrow.fly()"
      ],
      "metadata": {
        "colab": {
          "base_uri": "https://localhost:8080/"
        },
        "id": "-kX8aHLuTwPd",
        "outputId": "8c33f2f4-6779-41a0-b81e-c42aedfc23ae"
      },
      "execution_count": null,
      "outputs": [
        {
          "output_type": "stream",
          "name": "stdout",
          "text": [
            "Eagle named Eagle1 is flying\n",
            "Sparrow named Sparrow1 is flying\n"
          ]
        }
      ]
    },
    {
      "cell_type": "markdown",
      "source": [
        "18. What is the \"diamond problem\" in multiple inheritance, and how does Python address it?\n",
        "\n",
        "\n",
        "The diamond problem is a software design problem that occurs in multiple inheritance when two or more parent classes define the same method. When a subclass inherits from both of the parent classes, it is ambiguous which method implementation should be used.\n",
        "\n",
        "Python addresses the diamond problem using a technique called method resolution order (MRO). The MRO is a list of classes that defines the order in which Python searches for methods. The MRO is constructed by starting at the subclass and working up the inheritance hierarchy, adding each parent class to the list in the order in which they are inherited. If a parent class is inherited multiple times, it is only added to the MRO once.\n",
        "\n",
        "When Python searches for a method, it starts at the top of the MRO and works its way down. If it finds a method with the matching name and signature, it returns that method. If it does not find a matching method, it moves on to the next class in the MRO.\n",
        "\n",
        "This approach to resolving the diamond problem ensures that there is always a single method implementation that is used when a method is called on a subclass."
      ],
      "metadata": {
        "id": "UQc3jYdA2zUc"
      }
    },
    {
      "cell_type": "markdown",
      "source": [
        "19. Discuss the concept of \"is-a\" and \"has-a\" relationships in inheritance, and provide examples of each.\n",
        "\n",
        "Examples of \"Is-A\" Relationships\n",
        "\n",
        "1. Dog is-an Animal\n",
        "2. Car is-a Vehicle\n",
        "3. Circle is-a Shape\n",
        "4. Student is-a Person\n",
        "5. Employee is-a Person\n",
        "\n",
        "Examples of \"Has-A\" Relationships\n",
        "\n",
        "1. Car has-an Engine\n",
        "2. House has-a Kitchen\n",
        "3. Computer has-a Monitor\n",
        "4. Employee has-a Manager\n",
        "5. Student has-a Course\n"
      ],
      "metadata": {
        "id": "o6vNz1pc3etZ"
      }
    },
    {
      "cell_type": "code",
      "source": [
        "#20. Create a Python class hierarchy for a university system. Start with a base class `Person` and create child classes\n",
        "#`Student` and `Professor`, each with their own attributes and methods. Provide an example of using these classes in a university context.\n",
        "\n",
        "class Person:\n",
        "  def __init__(self, name, gender):\n",
        "    self.name = name\n",
        "    self.gender = gender\n",
        "\n",
        "  def Person_details(self):\n",
        "    print(f\"name: {self.name}, gender: {self.gender}\")\n",
        "\n",
        "\n",
        "class Student(Person):\n",
        "  def __init__(self, name, gender, profession, roll_number):\n",
        "    super().__init__(name, gender)\n",
        "    self.profession = profession\n",
        "    self.roll_number = roll_number\n",
        "\n",
        "  def Student_details(self):\n",
        "    print(f\"student name: {self.name}, student gender: {self.gender}, profession: {self.profession}, roll_number: {self.roll_number}\")\n",
        "\n",
        "\n",
        "class Professor(Person):\n",
        "  def __init__(self, name, gender, profession, department):\n",
        "    super().__init__(name, gender)\n",
        "    self.profession = profession\n",
        "    self.department = department\n",
        "\n",
        "  def Professor_details(self):\n",
        "        print(f\"Professor name: {self.name}, Professor gender: {self.gender}, profession: {self.profession}, department: {self.department}\")\n",
        "\n",
        "\n",
        "person1 = Person(\"Aryan Yadav\", \"Male\")\n",
        "person2 = Person(\"Sunita Sharma\", \"Female\")\n",
        "student1 = Student(\"Aryan Yadav\", \"Male\", \"Student\", \"2100301\")\n",
        "professor1 = Professor(\"Sunita Sharma\", \"Female\", \"Professor\", \"CSE\")\n",
        "\n",
        "student1.Student_details()\n",
        "professor1.Professor_details()\n",
        "\n"
      ],
      "metadata": {
        "colab": {
          "base_uri": "https://localhost:8080/"
        },
        "id": "JDPNLmEw363U",
        "outputId": "84898107-7def-445c-b6b6-dbd0c4cf50c8"
      },
      "execution_count": null,
      "outputs": [
        {
          "output_type": "stream",
          "name": "stdout",
          "text": [
            "student name: Aryan Yadav, student gender: Male, profession: Student, roll_number: 2100301\n",
            "Professor name: Sunita Sharma, Professor gender: Female, profession: Professor, department: CSE\n"
          ]
        }
      ]
    },
    {
      "cell_type": "markdown",
      "source": [
        "# **ENCAPSULATION**"
      ],
      "metadata": {
        "id": "YGRKP4EoCxhd"
      }
    },
    {
      "cell_type": "markdown",
      "source": [
        "1. Explain the concept of encapsulation in Python. What is its role in object-oriented programming?\n",
        "\n",
        "Encapsulation in Python is a concept of object-oriented programming that refers to the bundling of data and methods together into a single unit. This unit, known as a class, conceals the implementation details of the data and methods from the outside world. Instead, the class exposes a set of public methods that allow users to interact with the data in a controlled and predictable manner."
      ],
      "metadata": {
        "id": "JaFQZRwbC_lr"
      }
    },
    {
      "cell_type": "markdown",
      "source": [
        "2. Describe the key principles of encapsulation, including access control and data hiding.\n",
        "\n",
        "\n",
        "The key principles of encapsulation in Python are access control and data hiding.\n",
        "\n",
        "Access control is the mechanism by which encapsulation regulates access to the data and methods of a class. Encapsulation allows us to control which parts of a class are accessible to the outside world and which parts are hidden. This helps to protect the data and methods of a class from accidental modification or misuse.\n",
        "\n",
        "Access control in Python is implemented using the following modifiers:\n",
        "\n",
        "1. Public: Public members of a class are accessible to everyone.\n",
        "2. Protected: Protected members of a class are accessible to the class itself and to its subclasses.\n",
        "3. Private: Private members of a class are only accessible to the class itself.\n",
        "\n",
        "Data hiding is the practice of concealing the implementation details of a class from the outside world. Data hiding is achieved by declaring the data members of a class as private. This prevents the outside world from directly accessing or modifying the data members. Instead, the outside world must interact with the data members through the class's public methods.\n",
        "\n",
        "Data hiding has a number of benefits:\n",
        "\n",
        "1. Data protection: Data hiding helps to protect the data of a class from accidental modification or misuse.\n",
        "2. Code readability and maintainability: Data hiding makes code more readable and maintainable by grouping related data and methods together into a single unit.\n",
        "3. Flexibility: Data hiding allows us to change the implementation of a class without affecting its clients. This makes our code more flexible and adaptable to change."
      ],
      "metadata": {
        "id": "TTPVTuWxDmoF"
      }
    },
    {
      "cell_type": "code",
      "source": [
        "#3. How can you achieve encapsulation in Python classes? Provide an example.\n",
        "class Person:\n",
        "    def __init__(self, name, age):\n",
        "        self.__name = name\n",
        "        self.__age = age\n",
        "\n",
        "    def get_name(self):\n",
        "        return self.__name\n",
        "\n",
        "    def set_name(self, name):\n",
        "        self.__name = name\n",
        "\n",
        "    @property\n",
        "    def age(self):\n",
        "        return self.__age\n",
        "\n",
        "\n",
        "person = Person(\"Alice\", 25)\n",
        "\n",
        "# Get the person's name and age.\n",
        "name = person.get_name()\n",
        "age = person.age\n",
        "\n",
        "print(f\"Name: {name}\")\n",
        "print(f\"Age: {age}\")\n",
        "\n",
        "# Set the person's name.\n",
        "person.set_name(\"Bob\")\n",
        "\n",
        "# Get the person's name again.\n",
        "name = person.get_name()\n",
        "\n",
        "print(f\"Name: {name}\")\n"
      ],
      "metadata": {
        "id": "3TIn8u_NEEcy"
      },
      "execution_count": null,
      "outputs": []
    },
    {
      "cell_type": "markdown",
      "source": [
        "4. Discuss the difference between public, private, and protected access modifiers in Python.\n",
        "\n",
        "Python provides three access modifiers: public, private, and protected. These access modifiers control how class members can be accessed from outside the class.\n",
        "\n",
        "1. Public: Public members are accessible to everyone, including code outside the class.\n",
        "\n",
        "2. Private: Private members are only accessible to code inside the class.\n",
        "\n",
        "3. Protected: Protected members are accessible to code inside the class and to subclasses of the class."
      ],
      "metadata": {
        "id": "5DeIyGMYrpOx"
      }
    },
    {
      "cell_type": "code",
      "source": [
        "#5. Create a Python class called `Person` with a private attribute `__name`. Provide methods to get and set the name attribute.\n",
        "class Person:\n",
        "    def __init__(self, name):\n",
        "        self.__name = name\n",
        "\n",
        "    def get_name(self):\n",
        "        return self.__name\n",
        "\n",
        "    def set_name(self, name):\n",
        "        self.__name = name\n",
        "\n",
        "\n",
        "person = Person(\"Alice\")\n",
        "\n",
        "name = person.get_name()\n",
        "\n",
        "print(f\"Name: {name}\")\n",
        "\n",
        "person.set_name(\"Bob\")\n",
        "\n",
        "name = person.get_name()\n",
        "\n",
        "print(f\"Name: {name}\")\n"
      ],
      "metadata": {
        "colab": {
          "base_uri": "https://localhost:8080/"
        },
        "id": "IKnodl8nr-g0",
        "outputId": "3511603e-3d17-4821-8eb2-13c073a6bd65"
      },
      "execution_count": null,
      "outputs": [
        {
          "output_type": "stream",
          "name": "stdout",
          "text": [
            "Name: Alice\n",
            "Name: Bob\n"
          ]
        }
      ]
    },
    {
      "cell_type": "code",
      "source": [
        "#6. Explain the purpose of getter and setter methods in encapsulation. Provide examples.\n",
        "class Person:\n",
        "    def __init__(self, name):\n",
        "        self.__name = name\n",
        "\n",
        "    def get_name(self):\n",
        "        return self.__name\n",
        "\n",
        "    def set_name(self, name):\n",
        "        if not isinstance(name, str):\n",
        "            raise TypeError(\"Name must be a string.\")\n",
        "\n",
        "        self.__name = name\n",
        "\n",
        "\n",
        "person = Person(\"Alice\")\n",
        "\n",
        "name = person.get_name()\n",
        "\n",
        "print(f\"Name: {name}\")\n",
        "\n",
        "person.set_name(\"Bob\")\n",
        "\n",
        "name = person.get_name()\n",
        "\n",
        "print(f\"Name: {name}\")\n",
        "\n"
      ],
      "metadata": {
        "colab": {
          "base_uri": "https://localhost:8080/"
        },
        "id": "geA9AnmNsZ4J",
        "outputId": "3ca8bc51-1119-40e0-9f5a-76d644447537"
      },
      "execution_count": null,
      "outputs": [
        {
          "output_type": "stream",
          "name": "stdout",
          "text": [
            "Name: Alice\n",
            "Name: Bob\n"
          ]
        }
      ]
    },
    {
      "cell_type": "markdown",
      "source": [
        "7. What is name mangling in Python, and how does it affect encapsulation?\n",
        "\n",
        "\n",
        "Name mangling in Python is a technique used to rename class attributes and methods when they are accessed outside of the class. This is done to avoid name collisions between class attributes and methods and global variables.\n",
        "\n",
        "Name mangling is implemented by prefixing the name of the class attribute or method with two underscores and the name of the class. For example, the class attribute __name in the Person class would be mangled to _Person__name when accessed outside of the class.\n",
        "\n",
        "Name mangling can affect encapsulation in Python in a few ways:\n",
        "\n",
        "1. It can make it more difficult to access private class members from outside of the class.\n",
        "2. It can make it more difficult to debug code, as the mangled names can be confusing.\n",
        "3. It can make it more difficult to use Python libraries that rely on name mangling to implement their functionality."
      ],
      "metadata": {
        "id": "tlXw8Wbfs3qZ"
      }
    },
    {
      "cell_type": "code",
      "source": [
        "#8. Create a Python class called `BankAccount` with private attributes for the account balance (`__balance`) and account number (`__account_number`).\n",
        "# Provide methods for depositing and withdrawing money.\n",
        "\n",
        "class BankAccount:\n",
        "    def __init__(self, account_number, balance):\n",
        "        self.__account_number = account_number\n",
        "        self.__balance = balance\n",
        "\n",
        "    def deposit(self, amount):\n",
        "        if amount < 0:\n",
        "            raise ValueError(\"Deposit amount must be non-negative.\")\n",
        "\n",
        "        self.__balance += amount\n",
        "\n",
        "    def withdraw(self, amount):\n",
        "        if amount < 0:\n",
        "            raise ValueError(\"Withdraw amount must be non-negative.\")\n",
        "\n",
        "        if amount > self.__balance:\n",
        "            raise ValueError(\"Insufficient funds.\")\n",
        "\n",
        "        self.__balance -= amount\n",
        "\n",
        "    def get_balance(self):\n",
        "        return self.__balance\n",
        "\n",
        "    def get_account_number(self):\n",
        "        return self.__account_number\n",
        "\n",
        "\n",
        "account = BankAccount(123456789, 1000)\n",
        "\n",
        "account.deposit(500)\n",
        "\n",
        "account.withdraw(200)\n",
        "\n",
        "balance = account.get_balance()\n",
        "\n",
        "print(f\"Account balance: ${balance}\")\n",
        "\n"
      ],
      "metadata": {
        "colab": {
          "base_uri": "https://localhost:8080/"
        },
        "id": "7ZvpwN2Rt0Oq",
        "outputId": "0107afe9-f93a-4348-dbca-68aa779b511b"
      },
      "execution_count": null,
      "outputs": [
        {
          "output_type": "stream",
          "name": "stdout",
          "text": [
            "Account balance: $1300\n"
          ]
        }
      ]
    },
    {
      "cell_type": "markdown",
      "source": [
        "9. Discuss the advantages of encapsulation in terms of code maintainability and security.\n",
        "\n",
        "Encapsulation has a number of advantages in terms of code maintainability and security.\n",
        "\n",
        "Code maintainability\n",
        "\n",
        "Encapsulation makes code more maintainable by grouping related data and methods together into a single unit. This makes it easier to understand how the code works and to make changes without affecting the rest of the program.\n",
        "\n",
        "For example, if you have a class that represents a bank account, you can encapsulate the account balance and account number within the class. This makes it easy to add new features to the bank account class, such as the ability to deposit or withdraw money, without affecting the rest of the program.\n",
        "\n",
        "Security\n",
        "\n",
        "Encapsulation can also help to improve the security of your code. By restricting access to private data members, you can prevent unauthorized users from modifying the data or causing unexpected behavior.\n",
        "\n",
        "For example, if you have a class that represents a user account, you can encapsulate the user's password within the class. This prevents unauthorized users from stealing the user's password and gaining access to their account."
      ],
      "metadata": {
        "id": "75GXNp67vQmQ"
      }
    },
    {
      "cell_type": "code",
      "source": [
        "#10. How can you access private attributes in Python? Provide an example demonstrating the use of name mangling.\n",
        "\n",
        "class Person:\n",
        "    def __init__(self, name):\n",
        "        self.__name = name\n",
        "\n",
        "\n",
        "    # Get the person's name using name mangling.\n",
        "    name = person._Person__name\n",
        "\n",
        "    print(f\"Name: {name}\")\n"
      ],
      "metadata": {
        "colab": {
          "base_uri": "https://localhost:8080/"
        },
        "id": "eKO9kQSjvq5Y",
        "outputId": "1b216e0b-7048-4e13-d9fd-905326e120ad"
      },
      "execution_count": null,
      "outputs": [
        {
          "output_type": "stream",
          "name": "stdout",
          "text": [
            "Name: Bob\n"
          ]
        }
      ]
    },
    {
      "cell_type": "code",
      "source": [
        "#11. Create a Python class hierarchy for a school system, including classes for students,\n",
        "# teachers, and courses, and implement encapsulation principles to protect sensitive information.\n",
        "\n",
        "class Person:\n",
        "    def __init__(self, name, email):\n",
        "        self.__name = name\n",
        "        self.__email = email\n",
        "\n",
        "    def get_name(self):\n",
        "        return self.__name\n",
        "\n",
        "    def get_email(self):\n",
        "        return self.__email\n",
        "\n",
        "class Student(Person):\n",
        "    def __init__(self, name, email, student_id, major):\n",
        "        super().__init__(name, email)\n",
        "\n",
        "        self.__student_id = student_id\n",
        "        self.__major = major\n",
        "\n",
        "    def get_student_id(self):\n",
        "        return self.__student_id\n",
        "\n",
        "    def get_major(self):\n",
        "        return self.__major\n",
        "\n",
        "class Teacher(Person):\n",
        "    def __init__(self, name, email, employee_id, department):\n",
        "        super().__init__(name, email)\n",
        "\n",
        "        self.__employee_id = employee_id\n",
        "        self.__department = department\n",
        "\n",
        "    def get_employee_id(self):\n",
        "        return self.__employee_id\n",
        "\n",
        "    def get_department(self):\n",
        "        return self.__department\n",
        "\n",
        "class Course:\n",
        "    def __init__(self, course_name, course_code, instructor):\n",
        "        self.__course_name = course_name\n",
        "        self.__course_code = course_code\n",
        "        self.__instructor = instructor\n",
        "        self.__students = []\n",
        "\n",
        "    def get_course_name(self):\n",
        "        return self.__course_name\n",
        "\n",
        "    def get_course_code(self):\n",
        "        return self.__course_code\n",
        "\n",
        "    def get_instructor(self):\n",
        "        return self.__instructor\n",
        "\n",
        "    def get_students(self):\n",
        "        return self.__students\n",
        "\n",
        "    def add_student(self, student):\n",
        "        self.__students.append(student)\n",
        "\n",
        "    def remove_student(self, student):\n",
        "        self.__students.remove(student)\n",
        "\n",
        "\n",
        "student = Student(\"Shubhankar\", \"shubhankar@example.com\", 123456789, \"Computer Science\")\n",
        "teacher = Teacher(\"Hitesh\", \"hitesh@example.com\", 987654321, \"Mathematics\")\n",
        "course = Course(\"Introduction to Programming\", \"CS101\", teacher)\n",
        "\n",
        "course.add_student(student)\n",
        "\n",
        "student_name = student.get_name()\n",
        "\n",
        "print(f\"Student name: {student_name}\")\n",
        "\n"
      ],
      "metadata": {
        "colab": {
          "base_uri": "https://localhost:8080/"
        },
        "id": "dAITQP2WxeN6",
        "outputId": "f566a952-2a7a-474e-ad32-8b22f42b6247"
      },
      "execution_count": null,
      "outputs": [
        {
          "output_type": "stream",
          "name": "stdout",
          "text": [
            "Student name: Shubhankar\n"
          ]
        }
      ]
    },
    {
      "cell_type": "markdown",
      "source": [
        "12. Explain the concept of property decorators in Python and how they relate to encapsulation.\n",
        "\n",
        "\n",
        "Property decorators in Python are a way to create read-only, write-only, or read-write attributes for a class. They are related to encapsulation because they can be used to encapsulate private class members and provide a more controlled interface for accessing and modifying them.\n",
        "\n",
        "To create a property, you use the @property decorator. The @property decorator takes a getter function as an argument. The getter function is responsible for returning the value of the property."
      ],
      "metadata": {
        "id": "QLGfGOGL8Ib9"
      }
    },
    {
      "cell_type": "code",
      "source": [
        "#13. What is data hiding, and why is it important in encapsulation? Provide examples.\n",
        "\n",
        "class Person:\n",
        "    def __init__(self, name, age):\n",
        "        self.__name = name\n",
        "        self.__age = age\n",
        "\n",
        "    def get_name(self):\n",
        "        return self.__name\n",
        "\n",
        "    def get_age(self):\n",
        "        return self.__age\n",
        "\n",
        "\n",
        "person = Person(\"Alice\", 25)\n",
        "\n",
        "# Get the person's name and age using the public methods.\n",
        "name = person.get_name()\n",
        "age = person.get_age()\n",
        "\n",
        "print(f\"Name: {name}\")\n",
        "print(f\"Age: {age}\")\n",
        "\n",
        "# Try to access the person's name and age directly. This will fail because the attributes are private.\n",
        "# print(person.__name)\n",
        "# print(person.__age)\n"
      ],
      "metadata": {
        "colab": {
          "base_uri": "https://localhost:8080/"
        },
        "id": "xHaimZ1X8TKk",
        "outputId": "e60b520e-d29e-475f-82b2-de5fd1dcaee6"
      },
      "execution_count": null,
      "outputs": [
        {
          "output_type": "stream",
          "name": "stdout",
          "text": [
            "Name: Alice\n",
            "Age: 25\n"
          ]
        }
      ]
    },
    {
      "cell_type": "code",
      "source": [
        "#14. Create a Python class called `Employee` with private attributes for salary (`__salary`) and employee ID (`__employee_id`). Provide a method to calculate yearly bonuses.\n",
        "\n",
        "class Employee:\n",
        "    def __init__(self, employee_id, salary):\n",
        "        self.__employee_id = employee_id\n",
        "        self.__salary = salary\n",
        "\n",
        "    def calculate_yearly_bonus(self):\n",
        "        bonus = self.__salary * 0.1\n",
        "        return bonus\n",
        "\n",
        "    def get_employee_id(self):\n",
        "        return self.__employee_id\n",
        "\n",
        "    def get_salary(self):\n",
        "        return self.__salary\n",
        "\n",
        "\n",
        "employee = Employee(123456789, 100000)\n",
        "\n",
        "bonus = employee.calculate_yearly_bonus()\n",
        "\n",
        "print(f\"Yearly bonus: ${bonus}\")\n"
      ],
      "metadata": {
        "colab": {
          "base_uri": "https://localhost:8080/"
        },
        "id": "xPZ6MyFh8ken",
        "outputId": "6344e34d-6ee6-4f05-b154-a38d0d216e67"
      },
      "execution_count": null,
      "outputs": [
        {
          "output_type": "stream",
          "name": "stdout",
          "text": [
            "Yearly bonus: $10000.0\n"
          ]
        }
      ]
    },
    {
      "cell_type": "markdown",
      "source": [
        "15. Discuss the use of accessors and mutators in encapsulation. How do they help maintain control over attribute access?\n",
        "\n",
        "\n",
        " Accessors and mutators are methods that allow you to read and write to private class members in a controlled way. They are an essential part of encapsulation, as they allow you to protect your data from accidental modification or misuse.\n",
        "\n",
        " Mutators are methods that set the value of a private class member."
      ],
      "metadata": {
        "id": "T2Krd2UH82nx"
      }
    },
    {
      "cell_type": "markdown",
      "source": [
        "16. What are the potential drawbacks or disadvantages of using encapsulation in Python?\n",
        "\n",
        "Potential drawbacks of using encapsulation in Python:\n",
        "\n",
        "1. Increased code complexity and verbosity\n",
        "2. Reduced performance\n",
        "3. Increased difficulty of debugging\n",
        "4. Increased risk of introducing bugs\n",
        "5. Reduced flexibility"
      ],
      "metadata": {
        "id": "zKdhq2Rv9Qg3"
      }
    },
    {
      "cell_type": "code",
      "source": [
        "#17. Create a Python class for a library system that encapsulates book information, including titles, authors, and availability status.\n",
        "\n",
        "class library:\n",
        "  def __init__(self, title, author, availability_status):\n",
        "    self.__title = title\n",
        "    self.__author = author\n",
        "    self.__availability_status = availability_status\n",
        "\n",
        "  def get_title(self):\n",
        "    return self.__title\n",
        "\n",
        "  def get_author(self):\n",
        "    return self.__author\n",
        "\n",
        "  def get_availability_status(self):\n",
        "    return self.__availability_status\n",
        "\n",
        "book1 = library(\"harry potter\", \"J.k Rowling\", \"issued\")\n",
        "print(f\"author: {book1.get_author()}\")\n",
        "print(f\"title: {book1.get_title()}\")\n",
        "print(f\"avalibility status: {book1.get_availability_status()}\")\n",
        "\n",
        "#try to access book title, author and availability status. This will give you error as they are private attributes\n",
        "# print(book1.__title)\n",
        "# print(book1.__author)\n",
        "# print(book1.__availability_status)\n"
      ],
      "metadata": {
        "colab": {
          "base_uri": "https://localhost:8080/"
        },
        "id": "GdX94F7g9oG-",
        "outputId": "17636223-1d8c-44f4-9a49-956a6e7fe0df"
      },
      "execution_count": null,
      "outputs": [
        {
          "output_type": "stream",
          "name": "stdout",
          "text": [
            "author: J.k Rowling\n",
            "title: harry potter\n",
            "avalibility status: issued\n"
          ]
        }
      ]
    },
    {
      "cell_type": "markdown",
      "source": [
        "18. Explain how encapsulation enhances code reusability and modularity in Python programs.\n",
        "\n",
        "Encapsulation enhances code reusability and modularity in Python by:\n",
        "\n",
        "1. Allowing you to create self-contained units of code that can be reused in different parts of your program.\n",
        "2. Helping you to group related functionality together into classes, making your code easier to understand, maintain, and test.\n",
        "\n",
        "Examples:\n",
        "\n",
        "1. Create a class to represent a database connection and reuse it in different parts of your program to connect to and interact with the database.\n",
        "2. Create a class to represent a web service and reuse it in different parts of your program to make requests to and receive responses from the web service.\n",
        "3. Create a class to represent a user interface element, such as a button or a text box, and reuse it in different parts of your program to create user interfaces."
      ],
      "metadata": {
        "id": "vIiu3Q3dG9kb"
      }
    },
    {
      "cell_type": "markdown",
      "source": [
        "19. Describe the concept of information hiding in encapsulation. Why is it essential in software development?\n",
        "\n",
        "\n",
        "Information hiding in encapsulation is the concept of protecting the internal implementation details of a class from being accessed by external code. This is done by making the class's private members inaccessible outside of the class. Information hiding is essential in software development because it helps to:\n",
        "\n",
        "1. Protect the data from accidental modification or misuse. When the data is hidden, it can only be accessed through the class's public methods. This helps to prevent external code from accidentally modifying the data or using it in an unintended way.\n",
        "2. Promote abstraction. Abstraction is the process of hiding the implementation details of a class and exposing only the essential information to the outside world. Information hiding helps to achieve abstraction by hiding the class's private members and exposing only the public methods. This makes the class easier to use and understand, and it also makes it more flexible and adaptable to change.\n",
        "3. Reduce coupling. Coupling is the degree to which different parts of a software system are dependent on each other. Information hiding helps to reduce coupling by making the class's private members inaccessible outside of the class. This means that changes to the class's internal implementation will not affect other parts of the system that depend on the class.\n",
        "Increase modularity. Modularity is the degree to"
      ],
      "metadata": {
        "id": "7l27Pg4iR4xY"
      }
    },
    {
      "cell_type": "code",
      "source": [
        "#20. Create a Python class called `Customer` with private attributes for customer details like name, address, and contact information.\n",
        "# Implement encapsulation to ensure data integrity and security.\n",
        "\n",
        "class Customer:\n",
        "  def __init__(self, name, address, contact):\n",
        "    self.__name = name\n",
        "    self.__address = address\n",
        "    self.__contact = contact\n",
        "\n",
        "  def get_name(self):\n",
        "    return self.__name\n",
        "\n",
        "  def get_address(self):\n",
        "    return self.__address\n",
        "\n",
        "  def set_address(self, address):\n",
        "    self.__address = address\n",
        "\n",
        "  def get_contact(self):\n",
        "    return self.__contact\n",
        "\n",
        "  def set_contact(self, contact):\n",
        "    self.__contact = contact\n",
        "\n",
        "cust1 = Customer(\"shubhankar\", \"Noida-119\", \"956592179\")\n",
        "print(cust1.get_name())\n",
        "print(cust1.get_contact())\n",
        "print(cust1.get_address())\n",
        "cust1.set_contact(\"9287575738\")\n",
        "print(f\"updated contact: {cust1.get_contact()}\")"
      ],
      "metadata": {
        "colab": {
          "base_uri": "https://localhost:8080/"
        },
        "id": "o49gqnOgSHEd",
        "outputId": "4d804c3d-ff0e-4877-f9af-325e8869ca71"
      },
      "execution_count": null,
      "outputs": [
        {
          "output_type": "stream",
          "name": "stdout",
          "text": [
            "shubhankar\n",
            "956592179\n",
            "Noida-119\n",
            "updated contact: 9287575738\n"
          ]
        }
      ]
    },
    {
      "cell_type": "markdown",
      "source": [
        "# **POLYMORPHISM**"
      ],
      "metadata": {
        "id": "qIjgu0GqozWv"
      }
    },
    {
      "cell_type": "markdown",
      "source": [
        "1. What is polymorphism in Python? Explain how it is related to object-oriented programming.\n",
        "\n",
        "\n",
        "Polymorphism in Python is the ability of an object to take on multiple forms. It is one of the four pillars of object-oriented programming (OOP), along with encapsulation, inheritance, and abstraction.\n",
        "\n",
        "Polymorphism allows us to write code that is more flexible and reusable. It also makes our code easier to understand and maintain.:"
      ],
      "metadata": {
        "id": "4i8ZzRKNo-JO"
      }
    },
    {
      "cell_type": "markdown",
      "source": [
        "2. Describe the difference between compile-time polymorphism and runtime polymorphism in Python.\n",
        "\n",
        "Compile-time polymorphism is the ability of a compiler to determine the type of an object and call the appropriate method. It is also known as method overloading.\n",
        "\n",
        "Runtime polymorphism is the ability of an object to take on multiple forms at runtime. It is also known as method overriding.\n",
        "\n",
        "Compile-time polymorphism is implemented in Python using method overloading. Method overloading allows you to define multiple methods with the same name, but with different parameters. The compiler will then call the appropriate method based on the types of the arguments that are passed to it.\n",
        "\n",
        "Runtime polymorphism is implemented in Python using method overriding. Method overriding allows you to redefine a method in a child class. When the method is called on an object of the child class, the overridden method will be called instead of the original method.\n",
        "\n",
        "\n",
        "compile time polymorphism is the ability of a compiler to determine the type of an object and call appropriate method. it is also known as method overloading.\n",
        "runtime polymorphism is the ability of an object to take on multiple forms at runtime. It is also known as method overriding.\n",
        "Compile time polymorphism is implemented in python using method overloading."
      ],
      "metadata": {
        "id": "9W1Bx9CApkFG"
      }
    },
    {
      "cell_type": "code",
      "source": [
        "#3. Create a Python class hierarchy for shapes (e.g., circle, square, triangle) and demonstrate polymorphism through a common method, such as `calculate_area()`.\n",
        "\n",
        "class Shape:\n",
        "    def calculate_area(self):\n",
        "        pass\n",
        "\n",
        "class Circle(Shape):\n",
        "    def __init__(self, radius):\n",
        "        self.radius = radius\n",
        "\n",
        "    def calculate_area(self):\n",
        "        return 3.14 * self.radius ** 2\n",
        "\n",
        "class Square(Shape):\n",
        "    def __init__(self, side_length):\n",
        "        self.side_length = side_length\n",
        "\n",
        "    def calculate_area(self):\n",
        "        return self.side_length ** 2\n",
        "\n",
        "class Triangle(Shape):\n",
        "    def __init__(self, base, height):\n",
        "        self.base = base\n",
        "        self.height = height\n",
        "\n",
        "    def calculate_area(self):\n",
        "        return 0.5 * self.base * self.height\n",
        "\n",
        "circle = Circle(5)\n",
        "square = Square(10)\n",
        "triangle = Triangle(15, 20)\n",
        "\n",
        "print(circle.calculate_area())\n"
      ],
      "metadata": {
        "id": "KM0IXjiFxrKi"
      },
      "execution_count": null,
      "outputs": []
    },
    {
      "cell_type": "code",
      "source": [
        "#4. Explain the concept of method overriding in polymorphism. Provide an example.\n",
        "\n",
        "class Animal:\n",
        "  def make_sound(self):\n",
        "    print(\"Animal sound\")\n",
        "\n",
        "class Dog(Animal):\n",
        "  def make_sound(self):\n",
        "    print(\"Woof\")\n",
        "\n",
        "class Cat(Animal):\n",
        "  def make_sound(self):\n",
        "    print(\"Meow\")\n",
        "\n",
        "dog  = Dog()\n",
        "cat = Cat()\n",
        "\n",
        "print(\"dog sound: \", end=\"\")\n",
        "dog.make_sound()\n",
        "print(\"cat sound: \", end=\"\")\n",
        "cat.make_sound()"
      ],
      "metadata": {
        "colab": {
          "base_uri": "https://localhost:8080/"
        },
        "id": "uGX5h8Bmct4R",
        "outputId": "0de5299c-8311-4fda-866d-06ba37ce1e54"
      },
      "execution_count": null,
      "outputs": [
        {
          "output_type": "stream",
          "name": "stdout",
          "text": [
            "dog sound: Woof\n",
            "cat sound: Meow\n"
          ]
        }
      ]
    },
    {
      "cell_type": "code",
      "source": [
        "#5. How is polymorphism different from method overloading in Python? Provide examples for both.\n",
        "\n",
        "#polymorphism example\n",
        "class Animal:\n",
        "    def make_sound(self):\n",
        "        pass\n",
        "\n",
        "class Dog(Animal):\n",
        "    def make_sound(self):\n",
        "        print(\"Woof!\")\n",
        "\n",
        "class Cat(Animal):\n",
        "    def make_sound(self):\n",
        "        print(\"Meow!\")\n",
        "\n",
        "\n",
        "def make_animal_sound(animal):\n",
        "    animal.make_sound()\n",
        "\n",
        "dog = Dog()\n",
        "cat = Cat()\n",
        "\n",
        "make_animal_sound(dog)\n",
        "make_animal_sound(cat)\n",
        "\n",
        "\n",
        "\n",
        "\n",
        "#method overloading example\n",
        "class Shape:\n",
        "    def calculate_area(self, radius):\n",
        "        return 3.14 * radius ** 2\n",
        "\n",
        "    def calculate_area(self, length, width):\n",
        "        return length * width\n",
        "\n",
        "\n",
        "circle = Shape()\n",
        "square = Shape()\n",
        "\n",
        "print(square.calculate_area(10, 10))\n"
      ],
      "metadata": {
        "colab": {
          "base_uri": "https://localhost:8080/"
        },
        "id": "Y6TkwSOtdinC",
        "outputId": "13f54e16-083a-43e0-bdcd-7154a7952f86"
      },
      "execution_count": null,
      "outputs": [
        {
          "output_type": "stream",
          "name": "stdout",
          "text": [
            "Woof!\n",
            "Meow!\n",
            "100\n"
          ]
        }
      ]
    },
    {
      "cell_type": "code",
      "source": [
        "#6. Create a Python class called `Animal` with a method `speak()`. Then, create child classes like `Dog`, `Cat`, and `Bird`, each with their own `speak()` method.\n",
        "# Demonstrate polymorphism by calling the `speak()` method on objects of different subclasses.\n",
        "\n",
        "class Animal:\n",
        "  def speak(self):\n",
        "    print(\"Animal sound\")\n",
        "\n",
        "class Dog(Animal):\n",
        "  def speak(self):\n",
        "    print(\"Dog Sound\")\n",
        "\n",
        "class Cat(Animal):\n",
        "  def speak(self):\n",
        "    print(\"cat sound\")\n",
        "\n",
        "class Bird(Animal):\n",
        "  def speak(self):\n",
        "    print(\"bird sound\")\n",
        "\n",
        "dog = Dog()\n",
        "cat = Cat()\n",
        "bird = Bird()\n",
        "\n",
        "dog.speak()\n",
        "cat.speak()\n",
        "bird.speak()"
      ],
      "metadata": {
        "colab": {
          "base_uri": "https://localhost:8080/"
        },
        "id": "ZjBASI4jcOfb",
        "outputId": "fcd0a7de-afd4-4de8-f559-c5fd303fb13d"
      },
      "execution_count": null,
      "outputs": [
        {
          "output_type": "stream",
          "name": "stdout",
          "text": [
            "Dog Sound\n",
            "cat sound\n",
            "bird sound\n"
          ]
        }
      ]
    },
    {
      "cell_type": "code",
      "source": [
        "#7. Discuss the use of abstract methods and classes in achieving polymorphism in Python. Provide an example using the `abc` module.\n",
        "\n",
        "from abc import ABC, abstractmethod\n",
        "\n",
        "class Animal(ABC):\n",
        "    @abstractmethod\n",
        "    def make_sound(self):\n",
        "        pass\n",
        "\n",
        "class Dog(Animal):\n",
        "    def make_sound(self):\n",
        "        print(\"Dog Sound\")\n",
        "\n",
        "class Cat(Animal):\n",
        "    def make_sound(self):\n",
        "        print(\"Cat Sound\")\n",
        "\n",
        "\n",
        "dog = Dog()\n",
        "cat = Cat()\n",
        "\n",
        "dog.make_sound()\n",
        "cat.make_sound()"
      ],
      "metadata": {
        "colab": {
          "base_uri": "https://localhost:8080/"
        },
        "id": "2e06gJCRc8H3",
        "outputId": "2da24577-a8c6-4434-8834-bee6bbc3ed46"
      },
      "execution_count": null,
      "outputs": [
        {
          "output_type": "stream",
          "name": "stdout",
          "text": [
            "Dog Sound\n",
            "Cat Sound\n"
          ]
        }
      ]
    },
    {
      "cell_type": "code",
      "source": [
        "#8. Create a Python class hierarchy for a vehicle system (e.g., car, bicycle, boat) and implement a polymorphic `start()`\n",
        "# method that prints a message specific to each vehicle type.\n",
        "\n",
        "from abc import ABC, abstractmethod\n",
        "\n",
        "class Vehicle(ABC):\n",
        "  @abstractmethod\n",
        "  def start(self):\n",
        "    pass\n",
        "\n",
        "class Car(Vehicle):\n",
        "  def start(self):\n",
        "    print(\"Starting the car...\")\n",
        "\n",
        "class Bicycle(Vehicle):\n",
        "  def start(self):\n",
        "    print(\"Starting the bicycle...\")\n",
        "\n",
        "class Boat(Vehicle):\n",
        "  def start(self):\n",
        "    print(\"Starting the boat...\")\n",
        "\n",
        "car = Car()\n",
        "bicycle = Bicycle()\n",
        "boat = Boat()\n",
        "\n",
        "car.start()\n",
        "bicycle.start()\n",
        "boat.start()\n",
        "\n"
      ],
      "metadata": {
        "id": "GOc8a153ffQR",
        "colab": {
          "base_uri": "https://localhost:8080/"
        },
        "outputId": "143a5e5c-ab56-43fa-c37f-0423a7931d8c"
      },
      "execution_count": null,
      "outputs": [
        {
          "output_type": "stream",
          "name": "stdout",
          "text": [
            "Starting the car...\n",
            "Starting the bicycle...\n",
            "Starting the boat...\n"
          ]
        }
      ]
    },
    {
      "cell_type": "markdown",
      "source": [
        "9. Explain the significance of the `isinstance()` and `issubclass()` functions in Python polymorphism.\n",
        "\n",
        "isinstance()\n",
        "\n",
        "The isinstance() function checks whether an object is an instance of a particular class or a subclass thereof. It takes two arguments: the object to be checked and the class or tuple of classes to compare against. The function returns True if the object is an instance of the specified class or a subclass, and False otherwise.\n",
        "\n",
        "issubclass()\n",
        "\n",
        "The issubclass() function determines whether one class is a subclass of another class. It takes two arguments: the subclass to be checked and the potential superclass. The function returns True if the subclass is a direct or indirect descendant of the specified superclass, and False otherwise."
      ],
      "metadata": {
        "id": "eQ4st7MqpjGD"
      }
    },
    {
      "cell_type": "code",
      "source": [
        "#10. What is the role of the `@abstractmethod` decorator in achieving polymorphism in Python? Provide an example.\n",
        "\n",
        "from abc import ABC, abstractmethod\n",
        "\n",
        "class Animal(ABC):\n",
        "    @abstractmethod\n",
        "    def make_sound(self):\n",
        "        pass\n",
        "\n",
        "class Dog(Animal):\n",
        "    def make_sound(self):\n",
        "        print(\"Dog Sound\")\n",
        "\n",
        "class Cat(Animal):\n",
        "    def make_sound(self):\n",
        "        print(\"Cat Sound\")\n",
        "\n",
        "\n",
        "dog = Dog()\n",
        "cat = Cat()\n",
        "\n",
        "dog.make_sound()\n",
        "cat.make_sound()\n"
      ],
      "metadata": {
        "colab": {
          "base_uri": "https://localhost:8080/"
        },
        "id": "6N_3ze19q8a2",
        "outputId": "0603d401-b3a4-4766-865f-2ac3083baeef"
      },
      "execution_count": null,
      "outputs": [
        {
          "output_type": "stream",
          "name": "stdout",
          "text": [
            "Dog Sound\n",
            "Cat Sound\n"
          ]
        }
      ]
    },
    {
      "cell_type": "code",
      "source": [
        "#11. Create a Python class called `Shape` with a polymorphic method `area()` that calculates the area of different shapes (e.g., circle, rectangle, triangle).\n",
        "\n",
        "import math\n",
        "\n",
        "class Shape:\n",
        "    def __init__(self, name):\n",
        "        self.name = name\n",
        "\n",
        "    def area(self):\n",
        "        pass\n",
        "\n",
        "class Circle(Shape):\n",
        "    def __init__(self, name, radius):\n",
        "        super().__init__(name)\n",
        "        self.radius = radius\n",
        "\n",
        "    def area(self):\n",
        "        return math.pi * self.radius ** 2\n",
        "\n",
        "class Square(Shape):\n",
        "    def __init__(self, name, side_length):\n",
        "        super().__init__(name)\n",
        "        self.side_length = side_length\n",
        "\n",
        "    def area(self):\n",
        "        return self.side_length ** 2\n",
        "\n",
        "class Triangle(Shape):\n",
        "    def __init__(self, name, base, height):\n",
        "        super().__init__(name)\n",
        "        self.base = base\n",
        "        self.height = height\n",
        "\n",
        "    def area(self):\n",
        "        return 0.5 * self.base * self.height\n",
        "\n",
        "\n",
        "circle = Circle(\"Circle1\", 5)\n",
        "square = Square(\"Square1\", 10)\n",
        "triangle = Triangle(\"Triangle1\", 15, 20)\n",
        "\n",
        "print(f\"Area of circle: {circle.area()}\")\n",
        "print(f\"Area of square: {square.area()}\")\n",
        "print(f\"Area of triangle: {triangle.area()}\")\n"
      ],
      "metadata": {
        "colab": {
          "base_uri": "https://localhost:8080/"
        },
        "id": "PORxdd3MrcrW",
        "outputId": "2d481c53-ca71-4908-fca0-b896efab5fd1"
      },
      "execution_count": null,
      "outputs": [
        {
          "output_type": "stream",
          "name": "stdout",
          "text": [
            "Area of circle: 78.53981633974483\n",
            "Area of square: 100\n",
            "Area of triangle: 150.0\n"
          ]
        }
      ]
    },
    {
      "cell_type": "markdown",
      "source": [
        "12) Discuss the benefits of polymorphism in terms of code reusability and flexibility in Python programs.\n",
        "\n",
        "\n",
        "Sure, here is a more concise version of my previous answer:\n",
        "\n",
        "Polymorphism is a fundamental concept in object-oriented programming (OOP) that promotes code reusability and flexibility in Python programs. It enables objects of different classes to respond to the same method call in different ways, leading to more adaptable and maintainable code.\n",
        "\n",
        "Benefits of Polymorphism\n",
        "\n",
        "Code Reusability: Polymorphism reduces code duplication by allowing you to write generic methods that can be overridden in subclasses to provide specific implementations for different types of objects.\n",
        "\n",
        "Code Flexibility: Polymorphism makes code more adaptable to changing requirements by enabling you to extend existing classes and customize their behavior without modifying the base code.\n",
        "\n",
        "Code Maintainability: Polymorphism simplifies code maintenance by modularizing code and reducing the impact of changes on other parts of the system.\n",
        "\n"
      ],
      "metadata": {
        "id": "yv3tXv2xr0st"
      }
    },
    {
      "cell_type": "markdown",
      "source": [
        "13) Explain the use of the `super()` function in Python polymorphism. How does it help call methods of parent classes?\n",
        "\n",
        "In Python polymorphism, the super() function is used to access and call methods of parent classes. It is a built-in function that allows a subclass to access the methods of its parent class without having to explicitly name the parent class. This is particularly useful when overriding methods in subclasses, as it ensures that the overridden method still has access to the original implementation.\n",
        "\n",
        "The super() function takes two arguments: the class to call the method on (which is typically the subclass itself) and the name of the method to call. When called, it returns a reference to the method in the parent class, which can then be called using the standard dot notation."
      ],
      "metadata": {
        "id": "hTe3ueKYuzVd"
      }
    },
    {
      "cell_type": "code",
      "source": [
        "#14. Create a Python class hierarchy for a banking system with various account types (e.g., savings, checking, credit card)\n",
        "# and demonstrate polymorphism by implementing a common `withdraw()` method.\n",
        "\n",
        "\n",
        "\n",
        "class Account:\n",
        "    def __init__(self, account_number, balance):\n",
        "        self.account_number = account_number\n",
        "        self.balance = balance\n",
        "\n",
        "    def withdraw(self, amount):\n",
        "        if amount > self.balance:\n",
        "            raise ValueError(\"Insufficient funds\")\n",
        "        self.balance -= amount\n",
        "\n",
        "class SavingsAccount(Account):\n",
        "    def __init__(self, account_number, balance, interest_rate):\n",
        "        super().__init__(account_number, balance)\n",
        "        self.interest_rate = interest_rate\n",
        "\n",
        "    def withdraw(self, amount):\n",
        "        super().withdraw(amount)\n",
        "        if self.balance < 0:\n",
        "            self.balance -= self.interest_rate * self.balance\n",
        "\n",
        "class CheckingAccount(Account):\n",
        "    def __init__(self, account_number, balance, overdraft_limit):\n",
        "        super().__init__(account_number, balance)\n",
        "        self.overdraft_limit = overdraft_limit\n",
        "\n",
        "    def withdraw(self, amount):\n",
        "        if amount > self.balance + self.overdraft_limit:\n",
        "            raise ValueError(\"Insufficient funds\")\n",
        "        self.balance -= amount\n",
        "\n",
        "class CreditCardAccount(Account):\n",
        "    def __init__(self, account_number, balance, credit_limit):\n",
        "        super().__init__(account_number, balance)\n",
        "        self.credit_limit = credit_limit\n",
        "\n",
        "    def withdraw(self, amount):\n",
        "        if amount > self.credit_limit:\n",
        "            raise ValueError(\"Exceeding credit limit\")\n",
        "        self.balance -= amount\n",
        "\n",
        "\n",
        "savings_account = SavingsAccount(12345, 1000, 0.05)\n",
        "savings_account.withdraw(500)\n",
        "print(savings_account.balance)\n",
        "\n",
        "checking_account = CheckingAccount(56789, 2000, 500)\n",
        "checking_account.withdraw(1500)\n",
        "print(checking_account.balance)\n",
        "\n",
        "credit_card_account = CreditCardAccount(98765, 0, 1000)\n",
        "credit_card_account.withdraw(800)\n",
        "print(credit_card_account.balance)"
      ],
      "metadata": {
        "id": "_X2F8qVYyUpY"
      },
      "execution_count": null,
      "outputs": []
    },
    {
      "cell_type": "markdown",
      "source": [
        "15. Describe the concept of operator overloading in Python and how it relates to polymorphism. Provide examples using operators like `+` and `*`.\n",
        "\n",
        "\n",
        "Operator overloading in Python is a technique that allows you to extend the meaning of existing operators to work with user-defined types. This enables you to create custom behaviors for operators like +, -, *, //, and others, making your code more expressive and consistent with the behavior of built-in types.\n",
        "\n",
        "Operator overloading is closely related to polymorphism, which is the ability of objects of different classes to respond to the same method call in different ways. In Python, operator overloading is implemented through special methods called dunder methods, which have names starting with double underscores (e.g., __add__, __sub__, __mul__).\n",
        "\n",
        "To overload an operator, you define the corresponding dunder method in your class. When an operator is applied to an object of that class, the dunder method will be called instead of the built-in implementation. This allows you to customize the behavior of the operator for your specific type."
      ],
      "metadata": {
        "id": "LO_nZJwhyslO"
      }
    },
    {
      "cell_type": "markdown",
      "source": [
        "16. What is dynamic polymorphism, and how is it achieved in Python?\n",
        "\n",
        "Dynamic polymorphism, also known as runtime polymorphism, is a significant concept in object-oriented programming (OOP) that allows objects of different classes to respond to the same method call in different ways. This flexibility is crucial for designing adaptable and maintainable code.\n",
        "\n",
        "Dynamic polymorphism is achieved in Python primarily through method overriding. Method overriding occurs when a subclass defines a method with the same name and signature as a method in its parent class. When an object of the subclass receives a call to that method, the overridden method in the subclass is invoked instead of the original method in the parent class.\n",
        "\n",
        "This mechanism allows subclasses to customize the behavior of inherited methods, adapting them to the specific needs of the subclass. The specific implementation of the method is determined at runtime based on the type of the object receiving the method call.\n",
        "\n",
        "Consider a scenario where you have classes representing different types of shapes, such as Circle and Square, both inheriting from a base class Shape. Each subclass can define its own implementation of the area() method, which calculates the area of the corresponding shape."
      ],
      "metadata": {
        "id": "GI_QCNdMzHq0"
      }
    },
    {
      "cell_type": "code",
      "source": [
        "#17. Create a Python class hierarchy for employees in a company (e.g., manager, developer, designer) and implement polymorphism through a common `calculate_salary()` method\n",
        "\n",
        "class Employee:\n",
        "  def __init__(self, name, base_salary):\n",
        "    self.name = name\n",
        "    self.base_salary = base_salary\n",
        "\n",
        "  def calculate_salary(self):\n",
        "    pass\n",
        "\n",
        "\n",
        "class Manager(Employee):\n",
        "  def __init__(self, name, base_salary, bonus):\n",
        "    super().__init__(name, base_salary)\n",
        "    self.bonus = bonus\n",
        "\n",
        "  def calculate_salary(self):\n",
        "    return self.base_salary + self.bonus\n",
        "\n",
        "\n",
        "class Developer(Employee):\n",
        "  def __init__(self, name, base_salary, overtime_hours):\n",
        "    super().__init__(name, base_salary)\n",
        "    self.overtime_hours = overtime_hours\n",
        "\n",
        "  def calculate_salary(self):\n",
        "        overtime_pay = self.overtime_hours * 1.5 * self.base_salary / 160\n",
        "        return self.base_salary + overtime_pay\n",
        "\n",
        "\n",
        "class Designer(Employee):\n",
        "  def __init__(self, name, base_salary, experience_years):\n",
        "    super().__init__(name, base_salary)\n",
        "    self.experience_years = experience_years\n",
        "\n",
        "  def calculate_salary(self):\n",
        "        experience_bonus = self.experience_years * 0.1 * self.base_salary\n",
        "        return self.base_salary + experience_bonus\n",
        "\n",
        "manager = Manager(\"shubhankar\", 50000, 10000)\n",
        "developer = Developer(\"abhay\", 40000, 20)\n",
        "designer = Designer(\"hitesh\", 35000, 5)\n",
        "\n",
        "print(f\"Manager's salary: {manager.calculate_salary()}\")\n",
        "print(f\"Developer's salary: {developer.calculate_salary()}\")\n",
        "print(f\"Designer's salary: {designer.calculate_salary()}\")\n",
        "\n",
        "print(f\"manager salary: {manager.calulate_salary()}\")\n",
        "print(f\"developer salary: {developer.calculate_salary()}\")\n",
        "print(f\"designer salary: {designer.calculate_salary()}\")\n"
      ],
      "metadata": {
        "colab": {
          "base_uri": "https://localhost:8080/"
        },
        "id": "ISIVMR2g1xqb",
        "outputId": "1e5635d8-0360-454b-be69-07126203306c"
      },
      "execution_count": null,
      "outputs": [
        {
          "output_type": "stream",
          "name": "stdout",
          "text": [
            "Manager's salary: 60000\n",
            "Developer's salary: 47500.0\n",
            "Designer's salary: 52500.0\n"
          ]
        }
      ]
    },
    {
      "cell_type": "markdown",
      "source": [
        "18) Discuss the concept of function pointers and how they can be used to achieve polymorphism in Python.\n",
        "\n",
        "Function pointers are a powerful tool for achieving polymorphism in programming languages. They allow you to store the address of a function in a variable, and then call that function through the variable. This can be very useful for implementing polymorphic behavior, as it allows you to switch between different function implementations at runtime.\n",
        "\n",
        "Function pointers are not directly supported in Python, but you can achieve similar functionality using a technique called duck typing. Duck typing is a way of determining the type of an object at runtime based on its methods and attributes, rather than its class hierarchy. This allows you to write code that works with any object that has the required methods and attributes, regardless of its class.\n",
        "\n",
        "To use duck typing to achieve polymorphism, you can define a set of methods that all objects of a particular type should support. Then, you can write code that calls those methods without explicitly checking the object's class. This allows the code to work with any object that supports the required methods, regardless of its class."
      ],
      "metadata": {
        "id": "wl_kSAZDvcux"
      }
    },
    {
      "cell_type": "markdown",
      "source": [
        "19) Explain the role of interfaces and abstract classes in polymorphism, drawing comparisons between them.\n",
        "\n",
        "\n",
        "Interfaces and abstract classes are both fundamental concepts in object-oriented programming (OOP) that play a crucial role in implementing polymorphism. While they share some similarities, they also have distinct characteristics that make them suitable for different scenarios.\n",
        "\n",
        "Interfaces\n",
        "\n",
        "An interface is a collection of abstract methods that define a common set of behaviors for a group of related classes. It doesn't provide any concrete implementations for these methods; instead, it outlines the methods that implementing classes must provide. Interfaces promote loose coupling between classes and encourage code reusability by ensuring that all classes conforming to the interface share a common set of functionalities.\n",
        "\n",
        "Abstract Classes\n",
        "\n",
        "An abstract class is a partially implemented class that serves as a blueprint for subclasses. It contains abstract methods, which are methods without concrete implementations. Abstract methods are typically marked with the @abstractmethod decorator in Python. Subclasses inherit the abstract methods from their parent abstract class and must provide concrete implementations for those methods. Abstract classes help establish a common structure and behavior for a group of related classes while allowing subclasses to customize their behavior."
      ],
      "metadata": {
        "id": "9JMqyo1Kwdxq"
      }
    },
    {
      "cell_type": "code",
      "source": [
        "#20. Create a Python class for a zoo simulation, demonstrating polymorphism with different animal types\n",
        "# (e.g., mammals, birds, reptiles) and their behavior (e.g., eating, sleeping, making sounds).\n",
        "\n",
        "from abc import ABC, abstractmethod\n",
        "class Zoo(ABC):\n",
        "  def __init__(self, name):\n",
        "    self.name = name\n",
        "  @abstractmethod\n",
        "  def eating(self):\n",
        "    pass\n",
        "\n",
        "  @abstractmethod\n",
        "  def sleeping(self):\n",
        "    pass\n",
        "\n",
        "  @abstractmethod\n",
        "  def sound(self):\n",
        "    pass\n",
        "\n",
        "class Mammal(Zoo):\n",
        "  def __init__(self, name):\n",
        "    super().__init__(name)\n",
        "\n",
        "  def eating(self):\n",
        "    print(f\"mammal named {self.name} is eating its food.\")\n",
        "\n",
        "  def sleeping(self):\n",
        "    print(f\"mammal named {self.name} is sleeping right now\")\n",
        "\n",
        "  def sound(self):\n",
        "    print(f\"mammal named {self.name} is making loud noises\")\n",
        "\n",
        "class Bird(Zoo):\n",
        "  def __init__(self, name):\n",
        "    super().__init__(name)\n",
        "\n",
        "  def eating(self):\n",
        "    print(f\"Bird named {self.name} is eating its food.\")\n",
        "\n",
        "  def sleeping(self):\n",
        "    print(f\"Bird named {self.name} is sleeping right now\")\n",
        "\n",
        "  def sound(self):\n",
        "    print(f\"Bird named {self.name} is chirping\")\n",
        "\n",
        "class Reptile(Zoo):\n",
        "  def __init__(self, name):\n",
        "    super().__init__(name)\n",
        "\n",
        "  def eating(self):\n",
        "    print(f\"Reptile named {self.name} is eating its food.\")\n",
        "\n",
        "  def sleeping(self):\n",
        "    print(f\"Reptile named {self.name} is sleeping right now\")\n",
        "\n",
        "  def sound(self):\n",
        "    print(f\"Reptile named {self.name} is hissing\")\n",
        "\n",
        "\n",
        "dog = Mammal(\"husky\")\n",
        "lizard = Reptile(\"lizard\")\n",
        "bird = Bird(\"sparrow\")\n",
        "\n",
        "dog.eating()\n",
        "lizard.sleeping()\n",
        "bird.sound()"
      ],
      "metadata": {
        "colab": {
          "base_uri": "https://localhost:8080/"
        },
        "id": "9y2PpiOhyDHs",
        "outputId": "14d39773-360a-4e51-f09f-971f4c7cdeca"
      },
      "execution_count": null,
      "outputs": [
        {
          "output_type": "stream",
          "name": "stdout",
          "text": [
            "mammal named husky is eating its food.\n",
            "Reptile named lizard is sleeping right now\n",
            "Bird named sparrow is chirping\n"
          ]
        }
      ]
    },
    {
      "cell_type": "markdown",
      "source": [
        "# **ABSTRACTION**"
      ],
      "metadata": {
        "id": "x38C6kh177PW"
      }
    },
    {
      "cell_type": "markdown",
      "source": [
        "1) What is abstraction in Python, and how does it relate to object-oriented programming?\n",
        "\n",
        "\n",
        "In Python, abstraction refers to the process of hiding the implementation details of a complex system or object, exposing only the essential features and functionalities that are necessary for the user to interact with it. The goal of abstraction is to simplify the user's interaction with the system by shielding them from the underlying complexities and providing a clear and concise interface.\n",
        "\n",
        "Abstraction is a fundamental concept in object-oriented programming (OOP), where it plays a crucial role in promoting code reusability, maintainability, and understandability. By focusing on the essential aspects of an object's behavior, abstraction allows programmers to create more flexible and reusable components that can be easily incorporated into different applications."
      ],
      "metadata": {
        "id": "hvZ2dT958Alt"
      }
    },
    {
      "cell_type": "markdown",
      "source": [
        "2) Describe the benefits of abstraction in terms of code organization and complexity reduction.\n",
        "\n",
        "Benefits of Abstraction:\n",
        "\n",
        "1. Code Reusability: Abstraction promotes code reusability by enabling the creation of generic components that can be used in various contexts without modification.\n",
        "\n",
        "2. Code Maintainability: Abstraction simplifies code maintenance by encapsulating complex functionalities within well-defined boundaries, making it easier to understand, modify, and debug code.\n",
        "\n",
        "3. Code Understandability: Abstraction enhances code comprehension by providing a clear and concise interface, making it easier for developers to understand the purpose and usage of a component without delving into its intricate details."
      ],
      "metadata": {
        "id": "7woRA9_I86of"
      }
    },
    {
      "cell_type": "code",
      "source": [
        "#3. Create a Python class called `Shape` with an abstract method `calculate_area()`. Then, create child classes (e.g., `Circle`, `Rectangle`)\n",
        "# that implement the `calculate_area()` method. Provide an example of using these classes.\n",
        "\n",
        "class Shape:\n",
        "  def __init__(self, name):\n",
        "    self.name = name\n",
        "\n",
        "  def calculate_area(self):\n",
        "    pass\n",
        "\n",
        "\n",
        "class Circle(Shape):\n",
        "  def __init__(self, name, radius):\n",
        "    super().__init__(name)\n",
        "    self.radius = radius\n",
        "\n",
        "  def calculate_area(self):\n",
        "    return 3.14 * self.radius * self.radius\n",
        "\n",
        "class Rectangle(Shape):\n",
        "  def __init__(self, name, length, breadth):\n",
        "    super().__init__(name)\n",
        "    self.length = length\n",
        "    self.breadth = breadth\n",
        "\n",
        "  def calculate_area(self):\n",
        "    return self.length * self.breadth\n",
        "\n",
        "\n",
        "circle = Circle(\"circle1\", 5)\n",
        "rectangle = Rectangle(\"rect1\", 5, 10)\n",
        "\n",
        "print(f\"area of rectangle: {rectangle.calculate_area()}\")\n",
        "print(f\"area of circle: {circle.calculate_area( n)}\")\n"
      ],
      "metadata": {
        "colab": {
          "base_uri": "https://localhost:8080/"
        },
        "id": "PgVTSxon9DyZ",
        "outputId": "849f14bb-9974-4dfa-fbcb-83dbf3be7409"
      },
      "execution_count": null,
      "outputs": [
        {
          "output_type": "stream",
          "name": "stdout",
          "text": [
            "area of rectangle: 50\n",
            "area of circle: 78.5\n"
          ]
        }
      ]
    },
    {
      "cell_type": "code",
      "source": [
        "#4. Explain the concept of abstract classes in Python and how they are defined using the `abc` module. Provide an example.\n",
        "\n",
        "from abc import ABC, abstractmethod\n",
        "\n",
        "class animal(ABC):\n",
        "  def __init__(self, name):\n",
        "    self.name = name\n",
        "\n",
        "  @abstractmethod\n",
        "  def animal_sound(self):\n",
        "    pass\n",
        "\n",
        "class dog(animal):\n",
        "  def __init__(self, name):\n",
        "    super().__init__(name)\n",
        "\n",
        "  def animal_sound(self):\n",
        "    print(f\"{self.name} makes `WOOF!` sound\")\n",
        "\n",
        "class cat(animal):\n",
        "  def __init__(self, name):\n",
        "    super().__init__(name)\n",
        "\n",
        "  def animal_sound(self):\n",
        "    print(f\"{self.name} makes `MEOW!` sound\")\n",
        "\n",
        "dog1 = dog(\"labrador\")\n",
        "cat1 = cat(\"birman\")\n",
        "\n",
        "dog1.animal_sound()\n",
        "cat1.animal_sound()"
      ],
      "metadata": {
        "id": "CUO5oezPDMuM",
        "colab": {
          "base_uri": "https://localhost:8080/"
        },
        "outputId": "5c338a18-6b80-42f8-c9fe-eb52b7d56355"
      },
      "execution_count": 1,
      "outputs": [
        {
          "output_type": "stream",
          "name": "stdout",
          "text": [
            "labrador makes `WOOF!` sound\n",
            "birman makes `MEOW!` sound\n"
          ]
        }
      ]
    },
    {
      "cell_type": "markdown",
      "source": [
        "5) How do abstract classes differ from regular classes in Python? Discuss their use cases.\n",
        "\n",
        "\n",
        "Abstract classes are a specialized type of class in Python that serve as a blueprint for creating subclasses. They differ from regular classes in several key aspects:\n",
        "\n",
        "1. Abstract Methods: Abstract classes define abstract methods, which are methods that don't have a concrete implementation. These methods are typically marked with the @abstractmethod decorator. Subclasses that inherit from an abstract class must provide concrete implementations for all abstract methods.\n",
        "\n",
        "2. Instantiation: Abstract classes cannot be directly instantiated to create objects. Their purpose is to provide a common structure and behavior for a group of related classes, not to represent concrete objects.\n",
        "\n",
        "3. Partial Implementation: Abstract classes can have concrete methods in addition to abstract methods. These concrete methods provide shared functionality that can be reused by subclasses.\n",
        "\n",
        "Use Cases of Abstract Classes:\n",
        "\n",
        "1. Establishing a Common Framework: Abstract classes are useful for establishing a common framework for a group of related classes with shared behaviors and properties. They define a set of essential methods that all subclasses must implement, ensuring consistency and reusability.\n",
        "\n",
        "2. Promoting Inheritance: Abstract classes facilitate inheritance, allowing subclasses to inherit the structure and behavior of their parent class while customizing their implementation details. This promotes code organization and reusability.\n",
        "\n",
        "3. Enforcing Abstraction: Abstract classes enforce abstraction by preventing direct instantiation of the parent class and requiring subclasses to provide concrete implementations for abstract methods. This helps maintain the abstraction boundary and protects the implementation details.\n",
        "\n",
        "Examples of Abstract Classes:\n",
        "\n",
        "1. Shape: An abstract class representing the concept of a shape, with abstract methods for calculating area, perimeter, and other shape-specific properties."
      ],
      "metadata": {
        "id": "iK_nvHlkVONr"
      }
    },
    {
      "cell_type": "code",
      "source": [
        "#6. Create a Python class for a bank account and demonstrate abstraction by hiding the account balance and providing methods to deposit and withdraw funds.\n",
        "\n",
        "class bank_account:\n",
        "  def __init__(self, account_number, balance):\n",
        "    self.account_number = account_number\n",
        "    self.__balance = balance\n",
        "\n",
        "  def deposit(self, amount):\n",
        "    self.__balance += amount\n",
        "    return f\"updated balance after depositing {amount}: {self.__balance}\"\n",
        "\n",
        "  def withdraw(self, amount):\n",
        "    if amount > self.__balance:\n",
        "      return f\"error\"\n",
        "\n",
        "    else:\n",
        "      self.__balance -= amount\n",
        "      return f\"updated balance after withdrawing {amount}: {self.__balance}\"\n",
        "\n",
        "  def check_balance(self):\n",
        "    return self.__balance\n",
        "\n",
        "user1 = bank_account(123, 500)\n",
        "print(\"current balance: \",user1.check_balance())\n",
        "print(user1.deposit(200))\n",
        "print(user1.withdraw(400))\n",
        "print(\"current balance: \",user1.check_balance())"
      ],
      "metadata": {
        "colab": {
          "base_uri": "https://localhost:8080/"
        },
        "id": "AybzZoqE6NYf",
        "outputId": "3125a317-6e86-49cd-aaca-0c1907438c29"
      },
      "execution_count": 5,
      "outputs": [
        {
          "output_type": "stream",
          "name": "stdout",
          "text": [
            "current balance:  500\n",
            "updated balance after depositing 200: 700\n",
            "updated balance after withdrawing 400: 300\n",
            "current balance:  300\n"
          ]
        }
      ]
    },
    {
      "cell_type": "markdown",
      "source": [
        "7) Discuss the concept of interface classes in Python and their role in achieving abstraction.\n",
        "\n",
        "\n",
        "Interface classes, also known as protocols in other languages, are a fundamental concept in object-oriented programming (OOP) that plays a crucial role in achieving abstraction and promoting code reusability. In Python, interface classes are not directly supported by the language, but they can be implemented using abstract classes with abstract methods.\n",
        "\n",
        "An interface class defines a set of methods that a conforming class must implement. These methods are typically abstract, meaning they have no concrete implementation within the interface class itself. The implementation of these methods is provided by the subclasses that conform to the interface.\n",
        "\n",
        "Interface classes promote abstraction by separating the definition of behavior from its implementation. They define a contract between classes, specifying the methods that a class must support without providing the specific implementation details. This allows for flexibility and adaptability, as different classes can provide different implementations for the same method while still adhering to the interface's requirements."
      ],
      "metadata": {
        "id": "pzoFb0Og8WCp"
      }
    },
    {
      "cell_type": "code",
      "source": [
        "#8. Create a Python class hierarchy for animals and implement abstraction by defining common methods (e.g., `eat()`, `sleep()`) in an abstract base class.\n",
        "\n",
        "class Animal:\n",
        "    def __init__(self, name):\n",
        "        self.name = name\n",
        "\n",
        "    def eat(self):\n",
        "        print(f\"{self.name} is eating.\")\n",
        "\n",
        "    def sleep(self):\n",
        "        print(f\"{self.name} is sleeping.\")\n",
        "\n",
        "class Dog(Animal):\n",
        "    def __init__(self, name, breed):\n",
        "        super().__init__(name)\n",
        "        self.breed = breed\n",
        "\n",
        "    def bark(self):\n",
        "        print(f\"{self.name} is barking.\")\n",
        "\n",
        "class Cat(Animal):\n",
        "    def __init__(self, name, fur_color):\n",
        "        super().__init__(name)\n",
        "        self.fur_color = fur_color\n",
        "\n",
        "    def meow(self):\n",
        "        print(f\"{self.name} is meowing.\")\n",
        "\n",
        "dog = Dog(\"labrador\", \"Labrador Retriever\")\n",
        "dog.eat()\n",
        "dog.sleep()\n",
        "dog.bark()\n",
        "\n",
        "cat = Cat(\"persian cat\", \"Siamese\")\n",
        "cat.eat()\n",
        "cat.sleep()\n",
        "cat.meow()\n"
      ],
      "metadata": {
        "colab": {
          "base_uri": "https://localhost:8080/"
        },
        "id": "VUDk1w0v9JAZ",
        "outputId": "ef36527e-a9aa-4fa2-d920-aadbb55fb1e8"
      },
      "execution_count": 6,
      "outputs": [
        {
          "output_type": "stream",
          "name": "stdout",
          "text": [
            "labrador is eating.\n",
            "labrador is sleeping.\n",
            "labrador is barking.\n",
            "persian cat is eating.\n",
            "persian cat is sleeping.\n",
            "persian cat is meowing.\n"
          ]
        }
      ]
    },
    {
      "cell_type": "markdown",
      "source": [
        "9) Explain the significance of encapsulation in achieving abstraction. Provide examples\n",
        "\n",
        "**Significance of Encapsulation in Achieving Abstraction**\n",
        "\n",
        "Encapsulation plays a vital role in achieving abstraction by providing a mechanism to hide the implementation details of a class and control access to its data. This allows the class to expose only the essential functionalities and behaviors to the user, while shielding the internal complexities.\n",
        "\n",
        "This combination of encapsulation and abstraction provides several benefits:\n",
        "\n",
        "1. Simplicity: Abstracted classes provide a simplified interface for interacting with objects, making them easier to understand and use.\n",
        "\n",
        "2. Maintainability: By encapsulating data and hiding implementation details, abstraction simplifies code maintenance as changes to the internal workings of a class can be made without affecting the user's interaction with it.\n",
        "\n",
        "3. Flexibility: Abstraction allows for different implementations of the same behavior, enabling flexibility and adaptability in the design of classes and their interactions.\n",
        "\n",
        "4. Reusability: Abstracted classes can be reused in different contexts without modification, promoting code reusability and reducing duplication.\n",
        "\n",
        "\n",
        "**Examples of Encapsulation and Abstraction:**\n",
        "\n",
        "1. Bank Account: Consider a bank account class that encapsulates the account balance and provides methods for depositing, withdrawing, and checking the balance. The user interacts with the account through these methods, unaware of the underlying implementation details of how the balance is stored and updated.\n",
        "\n",
        "2. Shape: A shape class can encapsulate the properties of a shape (e.g., dimensions) and provide methods for calculating area, perimeter, and other shape-specific calculations. The user interacts with the shape through these methods, without needing to know the specific formulas or algorithms used for each calculation.\n",
        "\n",
        "3. Electronic Device: An electronic device class can encapsulate the internal components, power management, and input/output operations. The user interacts with the device through its interface (e.g., buttons, screen), unaware of the underlying hardware and software intricacies."
      ],
      "metadata": {
        "id": "PlJ5RXnsQuyI"
      }
    },
    {
      "cell_type": "markdown",
      "source": [
        "10) What is the purpose of abstract methods, and how do they enforce abstraction in Python classes?\n",
        "\n",
        "\n",
        "Abstract methods are a crucial concept in object-oriented programming (OOP) that serves to define the basic behaviors of a class without providing concrete implementations. They contribute to achieving abstraction by enforcing a common set of functionalities for a group of related classes while allowing for customization in subclasses.\n",
        "\n",
        "Purpose of Abstract Methods:\n",
        "\n",
        "1. Defining Common Behaviors: Abstract methods outline the essential behaviors that all subclasses of a particular class must implement. This ensures consistency and shared functionality among related classes.\n",
        "\n",
        "2. Enforcing Abstraction: Abstract methods enforce abstraction by preventing direct instantiation of the abstract class and requiring subclasses to provide concrete implementations for the abstract methods. This helps maintain abstraction boundaries and prevents users from interacting directly with the incomplete implementation.\n",
        "\n",
        "3. Promoting Code Reusability: Abstract methods promote code reusability by defining a common framework for related classes. This allows for the creation of generic components that can be used across different contexts without modification.\n",
        "\n",
        "4. Enhancing Maintainability: Abstract methods enhance code maintainability by separating the definition of behavior from its implementation. This makes it easier to modify or extend behavior in subclasses without affecting the abstract class or other subclasses."
      ],
      "metadata": {
        "id": "JPQOPVXpRft4"
      }
    },
    {
      "cell_type": "code",
      "source": [
        "#11. Create a Python class for a vehicle system and demonstrate abstraction by defining common methods (e.g., `start()`, `stop()`) in an abstract base class.\n",
        "\n",
        "from abc import ABC, abstractmethod\n",
        "import random\n",
        "\n",
        "class Vehicle(ABC):\n",
        "    def __init__(self, make, model, year):\n",
        "        self.make = make\n",
        "        self.model = model\n",
        "        self.year = year\n",
        "\n",
        "    @abstractmethod\n",
        "    def start(self):\n",
        "        pass\n",
        "\n",
        "    @abstractmethod\n",
        "    def stop(self):\n",
        "        pass\n",
        "\n",
        "\n",
        "class Car(Vehicle):\n",
        "    def __init__(self, make, model, year, fuel_type):\n",
        "        super().__init__(make, model, year)\n",
        "        self.fuel_type = fuel_type\n",
        "\n",
        "    def start(self):\n",
        "        print(f\"The {self.make} {self.model} is accelerating...\")\n",
        "\n",
        "    def stop(self):\n",
        "        print(f\"The {self.make} {self.model} is braking...\")\n",
        "\n",
        "class Motorcycle(Vehicle):\n",
        "    def __init__(self, make, model, year, engine_size):\n",
        "        super().__init__(make, model, year)\n",
        "        self.engine_size = engine_size\n",
        "\n",
        "    def start(self):\n",
        "        print(f\"The {self.make} {self.model} is starting...\")\n",
        "\n",
        "    def stop(self):\n",
        "        print(f\"The {self.make} {self.model} is breaking...\")\n",
        "\n",
        "\n",
        "class Truck(Vehicle):\n",
        "    def __init__(self, make, model, year, cargo_capacity):\n",
        "        super().__init__(make, model, year)\n",
        "        self.cargo_capacity = cargo_capacity\n",
        "\n",
        "    def start(self):\n",
        "        print(f\"The {self.make} {self.model} is starting...\")\n",
        "\n",
        "    def stop(self):\n",
        "        print(f\"The {self.make} {self.model} is stopping...\")\n",
        "\n",
        "car = Car(\"hyundai\", \"Creta\", 2023, \"petrol\")\n",
        "bike = Motorcycle(\"yamaha\", \"fz\", 2022, 650)\n",
        "truck = Truck(\"Ford\", \"F-150\", 2021, 5000)\n",
        "\n",
        "car.start()\n",
        "car.stop()\n",
        "\n",
        "bike.start()\n",
        "bike.stop()\n",
        "\n",
        "truck.start()\n",
        "truck.stop()\n",
        "\n",
        "\n",
        "\n"
      ],
      "metadata": {
        "colab": {
          "base_uri": "https://localhost:8080/"
        },
        "id": "9-7_BalLkaby",
        "outputId": "6e138067-c902-4a82-f99d-4368b6358c56"
      },
      "execution_count": 3,
      "outputs": [
        {
          "output_type": "stream",
          "name": "stdout",
          "text": [
            "The hyundai Creta is accelerating...\n",
            "The hyundai Creta is braking...\n",
            "The yamaha fz is starting...\n",
            "The yamaha fz is breaking...\n",
            "The Ford F-150 is starting...\n",
            "The Ford F-150 is stopping...\n"
          ]
        }
      ]
    },
    {
      "cell_type": "markdown",
      "source": [
        "12) Describe the use of abstract properties in Python and how they can be employed in abstract classes\n",
        "\n",
        "Abstract properties are a powerful tool for achieving polymorphism in Python. They allow you to store the description of a property in an abstract class, and then implement the property's getter and setter methods in subclasses. This can be very useful for defining common properties that all subclasses of a particular class should have."
      ],
      "metadata": {
        "id": "l4jPEXUCy8Qh"
      }
    },
    {
      "cell_type": "code",
      "source": [
        "#13. Create a Python class hierarchy for employees in a company (e.g., manager, developer, designer) and implement abstraction by defining a common `get_salary()` method.\n",
        "\n",
        "from abc import ABC, abstractmethod\n",
        "class employee(ABC):\n",
        "  def __init__(self, post, name):\n",
        "    self.post = post\n",
        "    self.name = name\n",
        "\n",
        "  @abstractmethod\n",
        "  def get_salary(self):\n",
        "    pass\n",
        "\n",
        "class manager(employee):\n",
        "  def __init__(self, post, name, location):\n",
        "    super().__init__(post, name)\n",
        "    self.location = location\n",
        "\n",
        "  def get_salary(self):\n",
        "    print(f\"{self.name} get a salary of $100000 anually as a manager\")\n",
        "\n",
        "class developer(employee):\n",
        "  def __init__(self, post, name, project):\n",
        "    super().__init__(post, name)\n",
        "    self.project = project\n",
        "\n",
        "  def get_salary(self):\n",
        "    print(f\"{self.name} get a salary of $70000 anually as a developer\")\n",
        "\n",
        "class designer(employee):\n",
        "  def __init__(self, post, name):\n",
        "    super().__init__(post, name)\n",
        "\n",
        "  def get_salary(self):\n",
        "    print(f\"{self.name} get a salary if $50000 anually as a designer\")\n",
        "\n",
        "emp1 = manager(\"MANAGER\", \"Shubhankar\", \"Bangalore\")\n",
        "emp2 = developer(\"DEVELOPER\", \"Hitesh\", \"React project\")\n",
        "emp3 = designer(\"DESIGNER\", \"Abhay\")\n",
        "\n",
        "emp1.get_salary()\n",
        "emp2.get_salary()\n",
        "emp3.get_salary()\n",
        "\n",
        "\n"
      ],
      "metadata": {
        "colab": {
          "base_uri": "https://localhost:8080/"
        },
        "id": "J29zxS6XzMrn",
        "outputId": "4a91cf6d-1885-4727-d3dc-df599a344e19"
      },
      "execution_count": 1,
      "outputs": [
        {
          "output_type": "stream",
          "name": "stdout",
          "text": [
            "Shubhankar get a salary of $100000 anually as a manager\n",
            "Hitesh get a salary of $70000 anually as a developer\n",
            "Abhay get a salary if $50000 anually as a designer\n"
          ]
        }
      ]
    },
    {
      "cell_type": "markdown",
      "source": [
        "14) Discuss the differences between abstract classes and concrete classes in Python, including their instantiation.\n",
        "\n",
        "\n",
        "Abstract classes and concrete classes are two fundamental concepts in object-oriented programming (OOP) that play a crucial role in defining and structuring classes. While both classes represent blueprints for creating objects, they differ in their level of abstraction and ability to be instantiated.\n",
        "\n",
        "**Abstract Classes**\n",
        "\n",
        "Abstract classes serve as templates for defining common characteristics and behaviors that are shared by a group of related classes. They primarily focus on defining abstract properties and abstract methods, which are placeholders for methods that must be implemented in their subclasses. Abstract classes cannot be directly instantiated, meaning you cannot create objects directly from them.\n",
        "\n",
        "**Concrete Classes**\n",
        "\n",
        "Concrete classes, on the other hand, are fully implemented classes that provide complete definitions for all their methods and properties. They inherit from abstract classes and implement the abstract methods defined in the parent class. Concrete classes can be instantiated, allowing you to create objects from them.\n"
      ],
      "metadata": {
        "id": "nP8pyKtK2ydL"
      }
    },
    {
      "cell_type": "markdown",
      "source": [
        "15) Explain the concept of abstract data types (ADTs) and their role in achieving abstraction in Python.\n",
        "\n",
        "Abstract data types (ADTs) are a fundamental concept in computer science that describes a collection of data and the operations that can be performed on that data without specifying the underlying implementation details. ADTs play a crucial role in achieving abstraction in Python, allowing programmers to focus on the essential features of data structures without getting bogged down by the minutiae of their implementation.\n",
        "\n",
        "Key Characteristics of ADTs\n",
        "\n",
        "1. Data Abstraction: ADTs hide the internal representation of data, exposing only the essential properties and operations to the user.\n",
        "\n",
        "2. Data Encapsulation: ADTs encapsulate data and its operations within a well-defined boundary, protecting the data from unauthorized access and modification.\n",
        "\n",
        "3. Operation Abstraction: ADTs abstract away the implementation details of operations, allowing the user to interact with the data in a consistent and predictable manner.\n",
        "\n",
        "Benefits of Using ADTs\n",
        "\n",
        "1. Improved Code Reusability: ADTs promote code reuse by providing a standardized interface for data structures, allowing programmers to share and utilize common data types across different applications.\n",
        "\n",
        "2. Enhanced Code Maintainability: ADTs make code more maintainable by separating the logical structure of data from its implementation, simplifying the process of modifying and extending data structures without affecting the rest of the program.\n",
        "\n",
        "3. Reduced Code Complexity: ADTs reduce code complexity by hiding away the intricacies of data representation and focusing on the high-level operations that can be performed on the data.\n",
        "\n",
        "Achieving Abstraction with ADTs in Python\n",
        "\n",
        "1. Python's built-in data structures, such as lists, dictionaries, and sets, are examples of ADTs. These data structures provide a consistent interface for storing, accessing, and manipulating data, while hiding away the underlying implementation details.\n",
        "\n",
        "2. In addition to built-in data structures, programmers can create their own ADTs by defining classes that encapsulate data and its operations. For instance, a class representing a stack could define methods for pushing, popping, and peeking at elements, while hiding the internal representation of the stack as a list or array.\n",
        "\n"
      ],
      "metadata": {
        "id": "erZR-2qg3BHy"
      }
    },
    {
      "cell_type": "code",
      "source": [
        "#16. Create a Python class for a computer system, demonstrating abstraction by defining common methods (e.g., `power_on()`, `shutdown()`) in an abstract base class.\n",
        "\n",
        "from abc import ABC, abstractmethod\n",
        "\n",
        "class ComputerSystem(ABC):\n",
        "    \"\"\"Abstract base class representing a computer system\"\"\"\n",
        "\n",
        "    @abstractmethod\n",
        "    def power_on(self):\n",
        "        \"\"\"Starts up the computer system\"\"\"\n",
        "        pass\n",
        "\n",
        "    @abstractmethod\n",
        "    def shutdown(self):\n",
        "        \"\"\"Shuts down the computer system\"\"\"\n",
        "        pass\n",
        "\n",
        "\n",
        "class DesktopComputer(ComputerSystem):\n",
        "    \"\"\"Concrete class representing a desktop computer\"\"\"\n",
        "\n",
        "    def power_on(self):\n",
        "        print(\"Turning on the desktop computer...\")\n",
        "\n",
        "    def shutdown(self):\n",
        "        print(\"Shutting down the desktop computer...\")\n",
        "\n",
        "\n",
        "class LaptopComputer(ComputerSystem):\n",
        "    \"\"\"Concrete class representing a laptop computer\"\"\"\n",
        "\n",
        "    def power_on(self):\n",
        "        print(\"Turning on the laptop computer...\")\n",
        "\n",
        "    def shutdown(self):\n",
        "        print(\"Shutting down the laptop computer...\")\n",
        "\n",
        "\n",
        "desktop = DesktopComputer()\n",
        "desktop.power_on()\n",
        "desktop.shutdown()\n",
        "\n",
        "laptop = LaptopComputer()\n",
        "laptop.power_on()\n",
        "laptop.shutdown()\n"
      ],
      "metadata": {
        "colab": {
          "base_uri": "https://localhost:8080/"
        },
        "id": "owCLNmlx3mTj",
        "outputId": "9db33268-cf78-4a29-dc08-4ca6232fe7c2"
      },
      "execution_count": 2,
      "outputs": [
        {
          "output_type": "stream",
          "name": "stdout",
          "text": [
            "Turning on the desktop computer...\n",
            "Shutting down the desktop computer...\n",
            "Turning on the laptop computer...\n",
            "Shutting down the laptop computer...\n"
          ]
        }
      ]
    },
    {
      "cell_type": "markdown",
      "source": [
        "17) Discuss the benefits of using abstraction in large-scale software development projects.\n",
        "\n",
        "\n",
        "Abstraction plays a crucial role in large-scale software development projects by enabling the management of complexity, enhancing code reusability, improving maintainability, and promoting code clarity and understanding.\n",
        "\n",
        "1. Managing Complexity: Large-scale software systems often involve a multitude of interconnected components, making them inherently complex. Abstraction helps to break down this complexity into manageable units by hiding the intricate details of individual components and focusing on their essential functionalities. This allows developers to work on specific modules without being overwhelmed by the entire system's intricacies.\n",
        "\n",
        "2. Enhancing Code Reusability: Abstraction promotes code reusability by encapsulating common functionalities and behaviors into reusable components. Developers can then create abstract classes or interfaces that define these common features, allowing subclasses to inherit and extend them without duplicating code. This reduces development time and effort while promoting consistency and standardization across the codebase.\n",
        "\n",
        "3. Improving Maintainability: Abstraction enhances code maintainability by separating the logical structure of the software from its implementation details. When changes are needed, developers can focus on modifying the abstract interfaces or classes without worrying about the underlying implementation. This makes code updates more manageable and less prone to errors, reducing the overall maintenance cost.\n",
        "\n",
        "4. Promoting Code Clarity and Understanding: Abstraction promotes code clarity and understanding by hiding irrelevant details and exposing only the essential aspects of the code. This makes it easier for developers to understand the purpose and usage of different components, fostering better collaboration and knowledge sharing within the development team.\n",
        "\n",
        "5. Reducing Errors: Abstraction can help reduce errors by encapsulating complex logic and behavior within well-defined modules. This reduces the likelihood of introducing errors in the code, making it more reliable and robust.\n",
        "\n",
        "6. Facilitating Testing: Abstraction facilitates testing by allowing developers to focus on testing the abstract interfaces or classes rather than the specific implementation details. This simplifies the testing process and ensures that the code functions as expected regardless of the underlying implementation.\n",
        "\n",
        "7. Promoting Adaptability: Abstraction promotes adaptability by making the code more flexible and adaptable to changes. When new requirements arise or technologies evolve, developers can modify the abstract interfaces or classes without affecting the rest of the codebase. This makes the software more responsive to changing needs and reduces the cost of future adaptations."
      ],
      "metadata": {
        "id": "FSRI9KrH32Qh"
      }
    },
    {
      "cell_type": "markdown",
      "source": [
        "18) Explain how abstraction enhances code reusability and modularity in Python programs.\n",
        "\n",
        "\n",
        "Abstraction plays a crucial role in enhancing code reusability and modularity in Python programs. By hiding the implementation details and focusing on the essential functionalities, abstraction allows developers to create reusable components that can be combined and adapted to various needs without duplicating code. This approach promotes modularity, making it easier to understand, maintain, and extend complex software systems.\n",
        "\n",
        "Abstract Classes and Interfaces: Python's abstract classes and interfaces provide powerful tools for achieving abstraction. Abstract classes define common properties and abstract methods, while interfaces specify method signatures without providing implementations. By using these constructs, developers can create reusable components that define the essential characteristics and behaviors of a particular concept or data structure. Subclasses can then inherit from these abstract classes or implement interfaces, providing their own concrete implementations while adhering to the defined specifications.\n",
        "\n",
        "Encapsulation and Data Hiding: Abstraction promotes encapsulation and data hiding by concealing the internal representation of data and operations. This modularizes the code, allowing developers to focus on the specific functionalities of a component without being concerned about its internal details. This separation of concerns reduces code complexity and makes it easier to reuse components across different parts of the application.\n",
        "\n",
        "Promoting Code Reuse: Abstraction enhances code reusability by enabling developers to create general-purpose components that can be used in various contexts. By encapsulating common functionalities and behaviors, abstract classes and interfaces allow developers to share and utilize these components across different modules or even across different projects. This reduces the need to reimplement the same logic repeatedly, saving time and effort.\n",
        "\n",
        "Improving Modularity: Abstraction promotes modularity by dividing the code into well-defined, independent modules that can be developed, tested, and maintained separately. This modular approach provides a structured organization for complex software systems, making it easier for developers to understand, modify, and extend the code without affecting other parts of the system.\n",
        "\n",
        "Enhancing Maintainability: Abstraction enhances maintainability by reducing the complexity of code modules and making them more focused on specific functionalities. This makes it easier for developers to identify and fix bugs, modify existing components, and add new features without disrupting the overall structure of the code.\n",
        "\n",
        "Promoting Code Clarity and Understanding"
      ],
      "metadata": {
        "id": "DPUjqb9K4SW_"
      }
    },
    {
      "cell_type": "code",
      "source": [
        "#19. Create a Python class for a library system, implementing abstraction by defining common methods (e.g., `add_book()`, `borrow_book()`) in an abstract base class.\n",
        "\n",
        "from abc import ABC, abstractmethod\n",
        "\n",
        "class LibrarySystem(ABC):\n",
        "    \"\"\"Abstract base class representing a library system\"\"\"\n",
        "\n",
        "    @abstractmethod\n",
        "    def add_book(self, book_id, title, author):\n",
        "        \"\"\"Adds a book to the library system\"\"\"\n",
        "        pass\n",
        "\n",
        "    @abstractmethod\n",
        "    def remove_book(self, book_id):\n",
        "        \"\"\"Removes a book from the library system\"\"\"\n",
        "        pass\n",
        "\n",
        "    @abstractmethod\n",
        "    def search_book(self, search_term):\n",
        "        \"\"\"Searches for books based on a given search term\"\"\"\n",
        "        pass\n",
        "\n",
        "    @abstractmethod\n",
        "    def borrow_book(self, book_id, member_id):\n",
        "        \"\"\"Borrows a book for a specific member\"\"\"\n",
        "        pass\n",
        "\n",
        "    @abstractmethod\n",
        "    def return_book(self, book_id):\n",
        "        \"\"\"Returns a borrowed book\"\"\"\n",
        "        pass\n",
        "\n",
        "\n",
        "class OnlineLibrarySystem(LibrarySystem):\n",
        "    \"\"\"Concrete class representing an online library system\"\"\"\n",
        "\n",
        "    def __init__(self):\n",
        "        self.books = {}\n",
        "        self.borrowed_books = {}\n",
        "    def add_book(self, book_id, title, author):\n",
        "        self.books[book_id] = {\"title\": title, \"author\": author}\n",
        "\n",
        "    def remove_book(self, book_id):\n",
        "        if book_id in self.books:\n",
        "            del self.books[book_id]\n",
        "\n",
        "    def search_book(self, search_term):\n",
        "        search_results = []\n",
        "        for book_id, book_info in self.books.items():\n",
        "            if search_term.lower() in book_info[\"title\"].lower() or search_term.lower() in book_info[\"author\"].lower():\n",
        "                search_results.append((book_id, book_info[\"title\"], book_info[\"author\"]))\n",
        "        return search_results\n",
        "\n",
        "    def borrow_book(self, book_id, member_id):\n",
        "        if book_id in self.books and book_id not in self.borrowed_books:\n",
        "            self.borrowed_books[book_id] = member_id\n",
        "            return True\n",
        "        else:\n",
        "            return False\n",
        "\n",
        "    def return_book(self, book_id):\n",
        "        if book_id in self.borrowed_books:\n",
        "            del self.borrowed_books[book_id]\n",
        "            return True\n",
        "        else:\n",
        "            return False\n",
        "\n",
        "\n",
        "library = OnlineLibrarySystem()\n",
        "\n",
        "library.add_book(1, \"The Lord of the Rings\", \"J.R.R. Tolkien\")\n",
        "library.add_book(2, \"Pride and Prejudice\", \"Jane Austen\")\n",
        "library.add_book(3, \"To Kill a Mockingbird\", \"Harper Lee\")\n",
        "\n",
        "print(library.search_book(\"lord\"))\n",
        "print(library.borrow_book(1, 12345))\n",
        "print(library.borrow_book(2, 54321))\n",
        "print(library.return_book(1))\n"
      ],
      "metadata": {
        "colab": {
          "base_uri": "https://localhost:8080/"
        },
        "id": "9H1y2Suh4mGr",
        "outputId": "a8145b10-6f27-4280-d681-e1f02b549cde"
      },
      "execution_count": 3,
      "outputs": [
        {
          "output_type": "stream",
          "name": "stdout",
          "text": [
            "[(1, 'The Lord of the Rings', 'J.R.R. Tolkien')]\n",
            "True\n",
            "True\n",
            "True\n"
          ]
        }
      ]
    },
    {
      "cell_type": "markdown",
      "source": [
        "20) Describe the concept of method abstraction in Python and how it relates to polymorphism.\n",
        "\n",
        "\n",
        "Method abstraction is a fundamental concept in object-oriented programming (OOP) that focuses on hiding the implementation details of methods and exposing only their essential functionalities. It allows programmers to define common behaviors for a group of related classes without specifying the exact implementation details for each class. This promotes code reusability, modularity, and maintainability by enabling the creation of reusable components that can be adapted to different contexts.\n",
        "\n",
        "Polymorphism, on the other hand, is the ability of objects of different classes to respond to the same method call in different ways. It plays a crucial role in OOP by allowing programmers to treat objects of different classes as if they belong to a common base class, even though they have different implementations of the same method. This flexibility makes it easier to write code that can handle different types of objects in a consistent manner.\n",
        "\n",
        "Method abstraction and polymorphism are closely related concepts in Python. Method abstraction allows programmers to define abstract methods in abstract base classes, specifying the method's signature but not its implementation. Subclasses can then inherit these abstract methods and provide their own concrete implementations, overriding the abstract behavior. This enables polymorphism, as the same method call can invoke different implementations depending on the type of object it is called upon.\n",
        "\n",
        "In Python, abstract methods are defined using the @abstractmethod decorator. This decorator indicates to the Python interpreter that the method should not be implemented in the abstract base class and must be overridden by subclasses. When a concrete subclass inherits an abstract method, it must provide its own implementation of that method. This ensures that all subclasses of the abstract base class have a consistent interface for the method, even though the implementation may vary depending on the subclass.\n",
        "\n",
        "Method abstraction and polymorphism are powerful tools for achieving flexibility and reusability in Python code. By effectively utilizing these concepts, programmers can design well-structured, maintainable, and adaptable software systems that can accommodate diverse requirements and evolve over time.\n",
        "\n"
      ],
      "metadata": {
        "id": "L4YzELYU48RM"
      }
    },
    {
      "cell_type": "markdown",
      "source": [
        "# **COMPOSITION**\n"
      ],
      "metadata": {
        "id": "Hu0NYFCjwX2S"
      }
    },
    {
      "cell_type": "markdown",
      "source": [
        "1 Explain the concept of composition in Python and how it is used to build complex objects from simpler ones.\n",
        "\n",
        "\n",
        "Composition is a fundamental concept in object-oriented programming (OOP) that involves creating complex objects by combining existing objects. It allows programmers to reuse existing components and build new functionalities by assembling them in a structured manner. In Python, composition is achieved by establishing relationships between classes using object references."
      ],
      "metadata": {
        "id": "z4UzKXdvwrIb"
      }
    },
    {
      "cell_type": "markdown",
      "source": [
        "2) Describe the difference between composition and inheritance in object-oriented programming.\n",
        "\n",
        "\n",
        "Composition and inheritance are two fundamental concepts in object-oriented programming (OOP) that play crucial roles in structuring and defining classes. While both concepts are used to create relationships between classes, they differ in their approach and the type of relationship they establish.\n",
        "\n",
        "Composition:\n",
        "\n",
        "Composition involves creating a new class that contains references to objects of other classes. This establishes a \"has-a\" relationship between the classes. The composite class can utilize the functionalities of the component objects through their interfaces, providing a flexible and adaptable approach to building complex objects.\n",
        "\n",
        "Inheritance:\n",
        "\n",
        "Inheritance involves creating a new class that inherits properties and methods from an existing class. This establishes an \"is-a\" relationship between the classes. The subclass inherits the characteristics of the parent class and can extend or override them to provide more specific behavior."
      ],
      "metadata": {
        "id": "jy-G0QcOxJYP"
      }
    },
    {
      "cell_type": "code",
      "source": [
        "#3. Create a Python class called `Author` with attributes for name and birthdate.\n",
        "# Then, create a `Book` class that contains an instance of `Author` as a composition. Provide an example of creating a `Book` object.\n",
        "\n",
        "class Author:\n",
        "  def __init__(self, name, birthdate):\n",
        "    self.name = name\n",
        "    self.birthdate = birthdate\n",
        "\n",
        "class Book:\n",
        "  def __init__(self, title, author):\n",
        "    self.title = title\n",
        "    self.author = author\n",
        "\n",
        "author = Author(\"J K Rowling\", \"1965-07-31\")\n",
        "book = Book(\"harry potter\", author)\n",
        "\n",
        "\n"
      ],
      "metadata": {
        "id": "NQZqmsEkx95_"
      },
      "execution_count": 2,
      "outputs": []
    },
    {
      "cell_type": "markdown",
      "source": [
        "4) Discuss the benefits of using composition over inheritance in Python, especially in terms of code flexibility and reusability.\n",
        "\n",
        "1. Increased flexibilty and adaptability\n",
        "2. Reduced code coupling\n",
        "3. Advanced code reusability\n",
        "4. Improved testability\n",
        "5. Avoid code rigidity\n",
        "6. Promotes encapsulation"
      ],
      "metadata": {
        "id": "lA6aeBhay_m1"
      }
    },
    {
      "cell_type": "code",
      "source": [
        "#5. How can you implement composition in Python classes? Provide examples of using composition to create complex objects.\n",
        "\n",
        "class Engine:\n",
        "    def start(self):\n",
        "        print(\"Engine started\")\n",
        "\n",
        "class Wheel:\n",
        "    def rotate(self):\n",
        "        print(\"Wheel rotating\")\n",
        "\n",
        "class Chassis:\n",
        "    def support(self):\n",
        "        print(\"Chassis supporting the car\")\n",
        "\n",
        "class Car:\n",
        "    def __init__(self):\n",
        "        self.engine = Engine()\n",
        "        self.wheels = [Wheel(), Wheel(), Wheel(), Wheel()]\n",
        "        self.chassis = Chassis()\n",
        "\n",
        "    def start_car(self):\n",
        "        self.engine.start()\n",
        "        for wheel in self.wheels:\n",
        "            wheel.rotate()\n",
        "        self.chassis.support()\n",
        "\n",
        "car = Car()\n",
        "car.start_car()\n"
      ],
      "metadata": {
        "colab": {
          "base_uri": "https://localhost:8080/"
        },
        "id": "xASANlzBzlsn",
        "outputId": "aadcedfa-cd05-4578-9b50-7eafa2174338"
      },
      "execution_count": 3,
      "outputs": [
        {
          "output_type": "stream",
          "name": "stdout",
          "text": [
            "Engine started\n",
            "Wheel rotating\n",
            "Wheel rotating\n",
            "Wheel rotating\n",
            "Wheel rotating\n",
            "Chassis supporting the car\n"
          ]
        }
      ]
    },
    {
      "cell_type": "code",
      "source": [
        "#6. Create a Python class hierarchy for a music player system, using composition to represent playlists and songs.\n",
        "\n",
        "class Song:\n",
        "    def __init__(self, title, artist, album):\n",
        "        self.title = title\n",
        "        self.artist = artist\n",
        "        self.album = album\n",
        "\n",
        "    def play(self):\n",
        "        print(f\"Playing song: {self.title} by {self.artist}\")\n",
        "\n",
        "class Playlist:\n",
        "    def __init__(self, name):\n",
        "        self.name = name\n",
        "        self.songs = []\n",
        "\n",
        "    def add_song(self, song):\n",
        "        self.songs.append(song)\n",
        "\n",
        "    def remove_song(self, song):\n",
        "        if song in self.songs:\n",
        "            self.songs.remove(song)\n",
        "\n",
        "    def play_playlist(self):\n",
        "        for song in self.songs:\n",
        "            song.play()\n",
        "\n",
        "class MusicPlayer:\n",
        "    def __init__(self):\n",
        "        self.playlists = {}\n",
        "\n",
        "    def add_playlist(self, playlist):\n",
        "        self.playlists[playlist.name] = playlist\n",
        "\n",
        "    def remove_playlist(self, playlist):\n",
        "        if playlist in self.playlists:\n",
        "            del self.playlists[playlist.name]\n",
        "\n",
        "    def play_song(self, song_title, artist):\n",
        "        for playlist in self.playlists.values():\n",
        "            for song in playlist.songs:\n",
        "                if song.title == song_title and song.artist == artist:\n",
        "                    song.play()\n",
        "                    return\n",
        "\n",
        "        print(f\"Song not found: {song_title} by {artist}\")\n",
        "\n",
        "    def play_playlist(self, playlist_name):\n",
        "        if playlist_name in self.playlists:\n",
        "            self.playlists[playlist_name].play_playlist()\n",
        "        else:\n",
        "            print(f\"Playlist not found: {playlist_name}\")\n",
        "\n",
        "song1 = Song(\"Bohemian Rhapsody\", \"Queen\", \"A Night at the Opera\")\n",
        "song2 = Song(\"Imagine\", \"John Lennon\", \"Imagine\")\n",
        "\n",
        "playlist1 = Playlist(\"Favorites\")\n",
        "playlist1.add_song(song1)\n",
        "playlist1.add_song(song2)\n",
        "\n",
        "music_player = MusicPlayer()\n",
        "music_player.add_playlist(playlist1)\n",
        "\n",
        "music_player.play_song(\"Bohemian Rhapsody\", \"Queen\")\n",
        "\n",
        "music_player.play_playlist(\"Favorites\")\n"
      ],
      "metadata": {
        "id": "7vDyunNP0WbS"
      },
      "execution_count": null,
      "outputs": []
    },
    {
      "cell_type": "markdown",
      "source": [
        "7) Explain the concept of \"has-a\" relationships in composition and how it helps design software systems.\n",
        "\n",
        "\n",
        "In object-oriented programming (OOP), a \"has-a\" relationship represents a composition between classes. Composition involves creating new classes by combining existing objects. It establishes a \"has-a\" relationship between the classes, where one class, known as the composite, contains references to objects of other classes, called components.\n",
        "\n",
        "The \"has-a\" relationship is a fundamental concept in OOP that plays a crucial role in designing software systems. It promotes modularity, reusability, and maintainability by allowing developers to break down complex systems into smaller, independent components and combine them in a structured manner.\n",
        "\n",
        "Benefits of \"Has-a\" Relationships:\n",
        "\n",
        "1. Modularity: Composition promotes modularity by dividing complex systems into independent modules. Each module represents a specific functionality or component, making the code easier to understand, maintain, and modify.\n",
        "\n",
        "2. Reusability: Composition encourages code reuse by utilizing existing objects as components. These components can be combined in different ways to create various functionalities, promoting code reusability and reducing duplication.\n",
        "\n",
        "3. Maintainability: Composition improves maintainability by isolating changes to specific components. Changes to a component do not directly affect other components, making it easier to manage and maintain the overall system.\n",
        "\n",
        "4. Flexibility: Composition provides a flexible approach to software design. It allows for combining different components from various sources to create complex systems without rigid class hierarchies.\n",
        "\n",
        "5. Encapsulation: Composition encapsulates the functionalities of component objects within the composite class, providing a clear interface for interaction. This promotes information hiding and reduces coupling between classes.\n",
        "\n",
        "Designing with \"Has-a\" Relationships:\n",
        "\n",
        "1. Identify Components: Analyze the system and identify its core components and their functionalities.\n",
        "\n",
        "2. Define Classes: Create classes for each identified component, encapsulating their attributes and methods.\n",
        "\n",
        "3. Establish Relationships: Establish \"has-a\" relationships between classes by creating object references within the composite class.\n",
        "\n",
        "4. Design Interfaces: Define clear interfaces for interaction between the composite class and its component objects.\n",
        "\n",
        "5. Test and Refine: Thoroughly test the system to ensure proper functionality and refine the design based on testing results."
      ],
      "metadata": {
        "id": "559pSZd519Pr"
      }
    },
    {
      "cell_type": "code",
      "source": [
        "#8) Create a Python class for a computer system, using composition to represent components like CPU, RAM, and storage devices\n",
        "\n",
        "class CPU:\n",
        "    def __init__(self, brand, model, clock_speed):\n",
        "        self.brand = brand\n",
        "        self.model = model\n",
        "        self.clock_speed = clock_speed\n",
        "\n",
        "class RAM:\n",
        "    def __init__(self, capacity, manufacturer):\n",
        "        self.capacity = capacity\n",
        "        self.manufacturer = manufacturer\n",
        "\n",
        "class StorageDevice:\n",
        "    def __init__(self, type, capacity, manufacturer):\n",
        "        self.type = type\n",
        "        self.capacity = capacity\n",
        "        self.manufacturer = manufacturer\n",
        "\n",
        "class ComputerSystem:\n",
        "    def __init__(self, name, cpu, ram, storage_devices):\n",
        "        self.name = name\n",
        "        self.cpu = cpu\n",
        "        self.ram = ram\n",
        "        self.storage_devices = storage_devices\n",
        "\n",
        "    def print_specs(self):\n",
        "        print(f\"Computer Name: {self.name}\")\n",
        "        print(\"CPU:\")\n",
        "        print(f\"  Brand: {self.cpu.brand}\")\n",
        "        print(f\"  Model: {self.cpu.model}\")\n",
        "        print(f\"  Clock Speed: {self.cpu.clock_speed} GHz\")\n",
        "        print(\"RAM:\")\n",
        "        print(f\"  Capacity: {self.ram.capacity} GB\")\n",
        "        print(f\"  Manufacturer: {self.ram.manufacturer}\")\n",
        "        print(\"Storage Devices:\")\n",
        "        for storage_device in self.storage_devices:\n",
        "            print(f\"  Type: {storage_device.type}\")\n",
        "            print(f\"  Capacity: {storage_device.capacity} GB\")\n",
        "            print(f\"  Manufacturer: {storage_device.manufacturer}\")\n",
        "\n",
        "cpu = CPU(\"Intel\", \"Core i7-10700\", 2.90)\n",
        "ram = RAM(16, \"Corsair\")\n"
      ],
      "metadata": {
        "id": "Sx_85LZf4Hdg"
      },
      "execution_count": 10,
      "outputs": []
    },
    {
      "cell_type": "markdown",
      "source": [
        "9) Describe the concept of \"delegation\" in composition and how it simplifies the design of complex systems.\n",
        "\n",
        "\n",
        "Delegation is a design pattern that involves assigning a task or responsibility to another object. In the context of composition, delegation plays a crucial role in simplifying the design of complex systems. It allows the composite class to delegate specific tasks to its component objects, reducing the complexity of the composite class and promoting modularity and separation of concerns.\n"
      ],
      "metadata": {
        "id": "_hKqdUum47TX"
      }
    },
    {
      "cell_type": "code",
      "source": [
        "#10. Create a Python class for a car, using composition to represent components like the engine, wheels, and transmission.\n",
        "\n",
        "class Engine:\n",
        "    def __init__(self, type, cylinders, horsepower):\n",
        "        self.type = type\n",
        "        self.cylinders = cylinders\n",
        "        self.horsepower = horsepower\n",
        "\n",
        "    def start(self):\n",
        "        print(\"Engine started\")\n",
        "\n",
        "class Wheel:\n",
        "    def __init__(self, manufacturer, size):\n",
        "        self.manufacturer = manufacturer\n",
        "        self.size = size\n",
        "\n",
        "    def rotate(self):\n",
        "        print(\"Wheel rotating\")\n",
        "\n",
        "class Transmission:\n",
        "    def __init__(self, type, gears):\n",
        "        self.type = type\n",
        "        self.gears = gears\n",
        "\n",
        "    def shift_gear(self, gear):\n",
        "        print(f\"Shifting to gear {gear}\")\n",
        "\n",
        "class Car:\n",
        "    def __init__(self, make, model, year):\n",
        "        self.make = make\n",
        "        self.model = model\n",
        "        self.year = year\n",
        "        self.engine = Engine(\"Gasoline\", 4, 180)\n",
        "        self.wheels = [Wheel(\"Bridgestone\", 17), Wheel(\"Bridgestone\", 17),\n",
        "                       Wheel(\"Bridgestone\", 17), Wheel(\"Bridgestone\", 17)]\n",
        "        self.transmission = Transmission(\"Automatic\", 6)\n",
        "\n",
        "    def start_car(self):\n",
        "        self.engine.start()\n",
        "\n",
        "    def accelerate(self):\n",
        "        print(\"Car accelerating\")\n",
        "\n",
        "    def brake(self):\n",
        "        print(\"Car braking\")\n",
        "\n",
        "    def print_specs(self):\n",
        "        print(\"Car Specifications:\")\n",
        "        print(f\"  Make: {self.make}\")\n",
        "        print(f\"  Model: {self.model}\")\n",
        "        print(f\"  Year: {self.year}\")\n",
        "        print(\"Engine:\")\n",
        "        print(f\"  Type: {self.engine.type}\")\n",
        "        print(f\"  Cylinders: {self.engine.cylinders}\")\n",
        "        print(f\"  Horsepower: {self.engine.horsepower} HP\")\n",
        "        print(\"Wheels:\")\n",
        "        for wheel in self.wheels:\n",
        "            print(f\"  Manufacturer: {wheel.manufacturer}\")\n",
        "            print(f\"  Size: {wheel.size} inches\")\n",
        "        print(\"Transmission:\")\n",
        "        print(f\"  Type: {self.transmission.type}\")\n",
        "        print(f\"  Gears: {self.transmission.gears}\")\n",
        "\n",
        "car = Car(\"Toyota\", \"Camry\", 2020)\n",
        "\n",
        "car.start_car()\n",
        "car.accelerate()\n",
        "car.brake()\n",
        "car.print_specs()\n"
      ],
      "metadata": {
        "colab": {
          "base_uri": "https://localhost:8080/"
        },
        "id": "GYYaWop55Guw",
        "outputId": "2d899965-e75e-4fd4-94c0-61d1b1b2fa63"
      },
      "execution_count": 11,
      "outputs": [
        {
          "output_type": "stream",
          "name": "stdout",
          "text": [
            "Engine started\n",
            "Car accelerating\n",
            "Car braking\n",
            "Car Specifications:\n",
            "  Make: Toyota\n",
            "  Model: Camry\n",
            "  Year: 2020\n",
            "Engine:\n",
            "  Type: Gasoline\n",
            "  Cylinders: 4\n",
            "  Horsepower: 180 HP\n",
            "Wheels:\n",
            "  Manufacturer: Bridgestone\n",
            "  Size: 17 inches\n",
            "  Manufacturer: Bridgestone\n",
            "  Size: 17 inches\n",
            "  Manufacturer: Bridgestone\n",
            "  Size: 17 inches\n",
            "  Manufacturer: Bridgestone\n",
            "  Size: 17 inches\n",
            "Transmission:\n",
            "  Type: Automatic\n",
            "  Gears: 6\n"
          ]
        }
      ]
    },
    {
      "cell_type": "markdown",
      "source": [
        "11) How can you encapsulate and hide the details of composed objects in Python classes to maintain abstraction?\n",
        "\n",
        "\n",
        "Encapsulation and information hiding are fundamental principles in object-oriented programming (OOP) that aim to conceal the internal implementation details of an object, providing a clear interface for interaction while protecting the object's internal state. In Python classes, encapsulation can be achieved using various techniques, including:\n",
        "\n",
        "1. Public, Private, and Protected Methods: Python uses access modifiers to control access to class methods and attributes. Public methods are accessible from outside the class, private methods can only be called from within the class, and protected methods can be accessed from within the class and its subclasses.\n",
        "\n",
        "2. Getter and Setter Methods: Getter methods allow retrieving an object's attribute value, while setter methods allow modifying the value. These methods provide controlled access to the attribute, encapsulating the internal logic and ensuring data integrity.\n",
        "\n",
        "3. Abstraction: Abstraction involves focusing on the essential functionalities and behavior of an object, hiding the underlying implementation details. This simplifies the user's interaction with the object and promotes encapsulation.\n",
        "\n",
        "4. Interfaces: Interfaces define a set of methods that a class must implement. This promotes loose coupling between classes and ensures that objects of different classes can interact through a standardized interface.\n",
        "\n",
        "5. Data Hiding: Data hiding involves restricting direct access to an object's internal data members. By using access modifiers and helper methods, you can control how data is manipulated and protect the object's state from external modifications."
      ],
      "metadata": {
        "id": "RKjn3Wq359pN"
      }
    },
    {
      "cell_type": "code",
      "source": [
        "#12. Create a Python class for a university course, using composition to represent students, instructors, and course materials.\n",
        "\n",
        "class Student:\n",
        "    def __init__(self, name, major, student_id):\n",
        "        self.name = name\n",
        "        self.major = major\n",
        "        self.student_id = student_id\n",
        "\n",
        "class Instructor:\n",
        "    def __init__(self, name, department, title):\n",
        "        self.name = name\n",
        "        self.department = department\n",
        "        self.title = title\n",
        "\n",
        "class CourseMaterial:\n",
        "    def __init__(self, type, title, author):\n",
        "        self.type = type\n",
        "        self.title = title\n",
        "        self.author = author\n",
        "\n",
        "class UniversityCourse:\n",
        "    def __init__(self, name, department, instructor, students, course_materials):\n",
        "        self.name = name\n",
        "        self.department = department\n",
        "        self.instructor = instructor\n",
        "        self.students = students\n",
        "        self.course_materials = course_materials\n",
        "\n",
        "    def add_student(self, student):\n",
        "        self.students.append(student)\n",
        "\n",
        "    def remove_student(self, student):\n",
        "        if student in self.students:\n",
        "            self.students.remove(student)\n",
        "\n",
        "    def add_course_material(self, course_material):\n",
        "        self.course_materials.append(course_material)\n",
        "\n",
        "    def remove_course_material(self, course_material):\n",
        "        if course_material in self.course_materials:\n",
        "            self.course_materials.remove(course_material)\n",
        "\n",
        "    def print_course_information(self):\n",
        "        print(f\"Course: {self.name}\")\n",
        "        print(f\"Department: {self.department}\")\n",
        "        print(\"Instructor:\")\n",
        "        print(f\"  Name: {self.instructor.name}\")\n",
        "        print(f\"  Title: {self.instructor.title}\")\n",
        "        print(\"Students:\")\n",
        "        for student in self.students:\n",
        "            print(f\"  Name: {student.name}\")\n",
        "            print(f\"  Major: {student.major}\")\n",
        "        print(\"Course Materials:\")\n",
        "        for course_material in self.course_materials:\n",
        "            print(f\"  Type: {course_material.type}\")\n",
        "            print(f\"  Title: {course_material.title}\")\n"
      ],
      "metadata": {
        "id": "Q1sIfyUM6OWO"
      },
      "execution_count": 12,
      "outputs": []
    },
    {
      "cell_type": "markdown",
      "source": [
        "13) Discuss the challenges and drawbacks of composition, such as increased complexity and potential for tight coupling between objects.\n",
        "\n",
        "\n",
        "While composition offers significant benefits in object-oriented programming, it also presents certain challenges and drawbacks that developers should be aware of:\n",
        "\n",
        "1. Increased Complexity: As the number of composed objects and their relationships grows, the overall complexity of the system increases. Managing and understanding the interactions between various components can become challenging, especially in large and intricate systems.\n",
        "\n",
        "2. Tight Coupling: Composition can lead to tight coupling between objects, where changes in one object can have unintended and cascading effects on other objects. This tight coupling can make it difficult to modify or reuse individual components without affecting other parts of the system.\n",
        "\n",
        "3. Debugging Difficulties: Debugging composed systems can be more challenging due to the interconnectedness of objects. Isolating the source of an error or bug can be difficult, as it may originate from interactions between multiple components.\n",
        "\n"
      ],
      "metadata": {
        "id": "kDy8WHH26n7d"
      }
    },
    {
      "cell_type": "code",
      "source": [
        "#14. Create a Python class hierarchy for a restaurant system, using composition to represent menus, dishes, and ingredients.\n",
        "\n",
        "class Ingredient:\n",
        "    def __init__(self, name, unit_price, quantity):\n",
        "        self.name = name\n",
        "        self.unit_price = unit_price\n",
        "        self.quantity = quantity\n",
        "\n",
        "class Dish:\n",
        "    def __init__(self, name, description, price, ingredients):\n",
        "        self.name = name\n",
        "        self.description = description\n",
        "        self.price = price\n",
        "        self.ingredients = ingredients\n",
        "\n",
        "    def calculate_cost(self):\n",
        "        total_cost = 0\n",
        "        for ingredient in self.ingredients:\n",
        "            total_cost += ingredient.unit_price * ingredient.quantity\n",
        "\n",
        "        return total_cost\n",
        "\n",
        "class Menu:\n",
        "    def __init__(self, name, dishes):\n",
        "        self.name = name\n",
        "        self.dishes = dishes\n",
        "\n",
        "    def add_dish(self, dish):\n",
        "        self.dishes.append(dish)\n",
        "\n",
        "    def remove_dish(self, dish):\n",
        "        if dish in self.dishes:\n",
        "            self.dishes.remove(dish)\n",
        "\n",
        "    def print_menu(self):\n",
        "        print(f\"Menu: {self.name}\")\n",
        "        for dish in self.dishes:\n",
        "            print(f\"- {dish.name} ({dish.description}) - ${dish.price}\")\n",
        "\n",
        "ingredient1 = Ingredient(\"Flour\", 0.50, 10)\n",
        "ingredient2 = Ingredient(\"Sugar\", 0.75, 5)\n",
        "ingredient3 = Ingredient(\"Eggs\", 1.00, 2)\n",
        "\n",
        "ingredients = [ingredient1, ingredient2, ingredient3]\n",
        "dish1 = Dish(\"Chocolate Chip Cookies\", \"Delicious homemade chocolate chip cookies\", 3.50, ingredients)\n",
        "\n",
        "menu = Menu(\"Main Menu\", [dish1])\n",
        "\n",
        "menu.print_menu()\n"
      ],
      "metadata": {
        "colab": {
          "base_uri": "https://localhost:8080/"
        },
        "id": "qu2RJ3Ie7Ajd",
        "outputId": "93d6386b-ca92-47b8-d505-94a78257142b"
      },
      "execution_count": 13,
      "outputs": [
        {
          "output_type": "stream",
          "name": "stdout",
          "text": [
            "Menu: Main Menu\n",
            "- Chocolate Chip Cookies (Delicious homemade chocolate chip cookies) - $3.5\n"
          ]
        }
      ]
    },
    {
      "cell_type": "markdown",
      "source": [
        "15) Explain how composition enhances code maintainability and modularity in Python programs.\n",
        "\n",
        "\n",
        "Composition plays a crucial role in enhancing code maintainability and modularity in Python programs. It promotes a clear and organized structure by dividing complex systems into smaller, independent modules. This approach offers several advantages for maintaining and improving code quality:\n",
        "\n",
        "1. Reduced Complexity: Composition breaks down complex systems into smaller, more manageable components, making the code easier to understand, modify, and debug. Each component has a well-defined purpose and interacts with other components through clear interfaces.\n",
        "\n",
        "2. Improved Modularity: Composition promotes modularity by encapsulating the functionalities of individual components within their respective classes. This allows for independent development and testing of components, reducing the impact of changes on other parts of the system.\n",
        "\n",
        "3. Enhanced Reusability: Composition encourages code reusability by promoting the creation of reusable components. These components can be combined in different ways to create various functionalities, reducing duplication and promoting code efficiency.\n",
        "\n",
        "4. Simplified Maintenance: Composition simplifies maintenance by isolating changes to specific components. Changes made to one component do not directly affect other components, making it easier to manage and maintain the overall system.\n",
        "\n",
        "5. Clearer Design: Composition leads to a clearer design by separating responsibilities between classes and promoting loose coupling. Each class is responsible for a specific set of tasks, making the code more organized and less prone to unexpected interactions.\n",
        "\n",
        "6. Reduced Interdependencies: Composition reduces interdependencies between classes by minimizing direct interactions. This makes it easier to modify or replace individual components without affecting the entire system.\n",
        "\n",
        "7. Encapsulation and Information Hiding: Composition promotes encapsulation and information hiding by restricting direct access to a component's internal state. This ensures that components can communicate through controlled interfaces, protecting their internal data and preventing unintended modifications.\n",
        "\n",
        "8. Flexible and Adaptable Design: Composition leads to a more flexible and adaptable design by allowing for the addition or removal of components without significantly altering the overall structure. This makes it easier to accommodate evolving requirements and enhance the system over time.\n",
        "\n",
        "By effectively utilizing composition, Python developers can create maintainable, modular, and reusable code that is easier to understand, modify, and adapt to changing requirements. This approach promotes better software quality and long-term maintainability."
      ],
      "metadata": {
        "id": "GvnSidBMxd1G"
      }
    },
    {
      "cell_type": "code",
      "source": [
        "#16. Create a Python class for a computer game character, using composition to represent attributes like weapons, armor, and inventory.\n",
        "\n",
        "class Weapon:\n",
        "    def __init__(self, name, damage, attack_type):\n",
        "        self.name = name\n",
        "        self.damage = damage\n",
        "        self.attack_type = attack_type\n",
        "\n",
        "class Armor:\n",
        "    def __init__(self, name, defense, protection_type):\n",
        "        self.name = name\n",
        "        self.defense = defense\n",
        "        self.protection_type = protection_type\n",
        "\n",
        "class InventoryItem:\n",
        "    def __init__(self, name, description, quantity):\n",
        "        self.name = name\n",
        "        self.description = description\n",
        "        self.quantity = quantity\n",
        "\n",
        "class Character:\n",
        "    def __init__(self, name, level, stats):\n",
        "        self.name = name\n",
        "        self.level = level\n",
        "        self.stats = stats\n",
        "\n",
        "        self.weapon = None\n",
        "        self.armor = None\n",
        "        self.inventory = []\n",
        "\n",
        "    def equip_weapon(self, weapon):\n",
        "        self.weapon = weapon\n",
        "\n",
        "    def unequip_weapon(self):\n",
        "        self.weapon = None\n",
        "\n",
        "    def equip_armor(self, armor):\n",
        "        self.armor = armor\n",
        "\n",
        "    def unequip_armor(self):\n",
        "        self.armor = None\n",
        "\n",
        "    def add_inventory_item(self, item):\n",
        "        self.inventory.append(item)\n",
        "\n",
        "    def remove_inventory_item(self, item):\n",
        "        if item in self.inventory:\n",
        "            self.inventory.remove(item)\n",
        "\n",
        "    def display_equipment(self):\n",
        "        print(f\"Name: {self.name}\")\n",
        "        print(f\"Level: {self.level}\")\n",
        "        print(\"Stats:\")\n",
        "        for stat, value in self.stats.items():\n",
        "            print(f\"  {stat}: {value}\")\n",
        "\n",
        "        print(\"Equipment:\")\n",
        "        if self.weapon is not None:\n",
        "            print(f\"  Weapon: {self.weapon.name}\")\n",
        "        else:\n",
        "            print(f\"  No weapon equipped\")\n",
        "\n",
        "        if self.armor is not None:\n",
        "            print(f\"  Armor: {self.armor.name}\")\n",
        "        else:\n",
        "            print(f\"  No armor equipped\")\n",
        "\n",
        "        print(\"Inventory:\")\n",
        "        for item in self.inventory:\n",
        "            print(f\"  - {item.name} ({item.description}) x {item.quantity}\")\n",
        "\n"
      ],
      "metadata": {
        "id": "iKPY-wQzxzb1"
      },
      "execution_count": 2,
      "outputs": []
    },
    {
      "cell_type": "markdown",
      "source": [
        "17) Describe the concept of \"aggregation\" in composition and how it differs from simple composition.\n",
        "\n",
        "\n",
        "Aggregation and composition are both forms of object-oriented design patterns that involve creating relationships between objects. However, there are some key differences between the two.\n",
        "\n",
        "In simple composition, a parent object has control over the lifecycle of its child objects. This means that if the parent object is destroyed, all of its child objects are also destroyed. This is known as a \"strong\" association.\n",
        "\n",
        "In aggregation, a parent object has a \"has-a\" relationship with its child objects, but the parent object does not have control over the lifecycle of the child objects. This means that the child objects can exist independently of the parent object. This is known as a \"weak\" association."
      ],
      "metadata": {
        "id": "gmiafluIyvJQ"
      }
    },
    {
      "cell_type": "code",
      "source": [
        "#18. Create a Python class for a house, using composition to represent rooms, furniture, and appliances.\n",
        "\n",
        "class Room:\n",
        "    def __init__(self, name, size):\n",
        "        self.name = name\n",
        "        self.size = size\n",
        "        self.furniture = []\n",
        "        self.appliances = []\n",
        "\n",
        "    def add_furniture(self, furniture):\n",
        "        self.furniture.append(furniture)\n",
        "\n",
        "    def remove_furniture(self, furniture):\n",
        "        if furniture in self.furniture:\n",
        "            self.furniture.remove(furniture)\n",
        "\n",
        "    def add_appliance(self, appliance):\n",
        "        self.appliances.append(appliance)\n",
        "\n",
        "    def remove_appliance(self, appliance):\n",
        "        if appliance in self.appliances:\n",
        "            self.appliances.remove(appliance)\n",
        "\n",
        "class Furniture:\n",
        "    def __init__(self, name, type, material):\n",
        "        self.name = name\n",
        "        self.type = type\n",
        "        self.material = material\n",
        "\n",
        "class Appliance:\n",
        "    def __init__(self, name, type, brand):\n",
        "        self.name = name\n",
        "        self.type = type\n",
        "        self.brand = brand\n",
        "\n",
        "class House:\n",
        "    def __init__(self, address, year_built):\n",
        "        self.address = address\n",
        "        self.year_built = year_built\n",
        "        self.rooms = []\n",
        "\n",
        "    def add_room(self, room):\n",
        "        self.rooms.append(room)\n",
        "\n",
        "    def remove_room(self, room):\n",
        "        if room in self.rooms:\n",
        "            self.rooms.remove(room)\n",
        "\n",
        "    def print_house_details(self):\n",
        "        print(f\"House Details:\")\n",
        "        print(f\"  Address: {self.address}\")\n",
        "        print(f\"  Year Built: {self.year_built}\")\n",
        "        print(\"  Rooms:\")\n",
        "        for room in self.rooms:\n",
        "            print(f\"    Room: {room.name}\")\n",
        "            print(f\"      Size: {room.size}\")\n",
        "            print(f\"      Furniture:\")\n",
        "            for furniture in room.furniture:\n",
        "                print(f\"        Name: {furniture.name}\")\n",
        "                print(f\"        Type: {furniture.type}\")\n",
        "                print(f\"        Material: {furniture.material}\")\n",
        "            print(f\"      Appliances:\")\n",
        "            for appliance in room.appliances:\n",
        "                print(f\"        Name: {appliance.name}\")\n",
        "                print(f\"        Type: {appliance.type}\")\n",
        "                print(f\"        Brand: {appliance.brand}\")\n",
        "\n",
        "bedroom = Room(\"Bedroom\", 15)\n",
        "bedroom.add_furniture(Furniture(\"Bed\", \"Double\", \"Wood\"))\n",
        "bedroom.add_furniture(Furniture(\"Dresser\", \"Chest\", \"Maple\"))\n",
        "bedroom.add_appliance(Appliance(\"Closet\", \"Wardrobe\", \"IKEA\"))\n",
        "\n",
        "kitchen = Room(\"Kitchen\", 12)\n",
        "kitchen.add_furniture(Furniture(\"Table\", \"Dining\", \"Oak\"))\n",
        "kitchen.add_furniture(Furniture(\"Chairs\", \"Set of 4\", \"Metal\"))\n",
        "kitchen.add_appliance(Appliance(\"Refrigerator\", \"Side-by-Side\", \"Samsung\"))\n",
        "kitchen.add_appliance(Appliance(\"Oven\", \"Electric\", \"GE\"))\n",
        "\n",
        "living_room = Room(\"Living Room\", 20)\n",
        "living_room.add_furniture(Furniture(\"Couch\", \"Sectional\", \"Leather\"))\n",
        "living_room.add_furniture(Furniture(\"Coffee Table\", \"Round\", \"Glass\"))\n",
        "living_room.add_appliance(Appliance(\"TV\", \"Smart\", \"LG\"))\n",
        "\n",
        "house = House(\"123 Main Street\", 2020)\n",
        "house.add_room(bedroom)\n",
        "house.add_room(kitchen)\n",
        "house.add_room(living_room)\n",
        "\n",
        "house.print_house_details()\n"
      ],
      "metadata": {
        "colab": {
          "base_uri": "https://localhost:8080/"
        },
        "id": "6SY1SsDxzcV_",
        "outputId": "b73b9e5d-928e-41cd-b9c3-ce4a39125273"
      },
      "execution_count": 3,
      "outputs": [
        {
          "output_type": "stream",
          "name": "stdout",
          "text": [
            "House Details:\n",
            "  Address: 123 Main Street\n",
            "  Year Built: 2020\n",
            "  Rooms:\n",
            "    Room: Bedroom\n",
            "      Size: 15\n",
            "      Furniture:\n",
            "        Name: Bed\n",
            "        Type: Double\n",
            "        Material: Wood\n",
            "        Name: Dresser\n",
            "        Type: Chest\n",
            "        Material: Maple\n",
            "      Appliances:\n",
            "        Name: Closet\n",
            "        Type: Wardrobe\n",
            "        Brand: IKEA\n",
            "    Room: Kitchen\n",
            "      Size: 12\n",
            "      Furniture:\n",
            "        Name: Table\n",
            "        Type: Dining\n",
            "        Material: Oak\n",
            "        Name: Chairs\n",
            "        Type: Set of 4\n",
            "        Material: Metal\n",
            "      Appliances:\n",
            "        Name: Refrigerator\n",
            "        Type: Side-by-Side\n",
            "        Brand: Samsung\n",
            "        Name: Oven\n",
            "        Type: Electric\n",
            "        Brand: GE\n",
            "    Room: Living Room\n",
            "      Size: 20\n",
            "      Furniture:\n",
            "        Name: Couch\n",
            "        Type: Sectional\n",
            "        Material: Leather\n",
            "        Name: Coffee Table\n",
            "        Type: Round\n",
            "        Material: Glass\n",
            "      Appliances:\n",
            "        Name: TV\n",
            "        Type: Smart\n",
            "        Brand: LG\n"
          ]
        }
      ]
    },
    {
      "cell_type": "markdown",
      "source": [
        "19) How can you achieve flexibility in composed objects by allowing them to be replaced or modified dynamically at runtime?\n",
        "\n",
        "Achieving flexibility in composed objects by allowing them to be replaced or modified dynamically at runtime can be achieved through various techniques, including:\n",
        "\n",
        "1. Dependency Injection: This approach involves injecting dependencies into objects at runtime, allowing for dynamic substitution of components. For instance, in a game development context, different weapon or armor implementations can be injected into a character object, enabling dynamic changes to the character's capabilities.\n",
        "\n",
        "2. Dynamic Class Loading: This technique involves loading and instantiating classes at runtime, enabling the introduction of new or modified components without requiring recompilation of the entire application. For example, in a plugin-based system, new plugins can be loaded and integrated with the existing application at runtime.\n",
        "\n",
        "3. Reflection and Metaprogramming: These techniques allow for introspection and manipulation of objects and their properties at runtime. Reflection enables developers to query and modify the structure and behavior of objects, providing flexibility in adapting to changing requirements.\n",
        "\n",
        "4. Aspect-Oriented Programming (AOP): AOP introduces the concept of aspects, which cross-cut multiple modules or components. Aspects can be dynamically added or removed at runtime, allowing for non-intrusive modification of object behavior without directly altering their code.\n",
        "\n",
        "5. Event-Driven Architecture: In an event-driven architecture, components communicate through events, enabling loose coupling and dynamic composition. Components can subscribe and unsubscribe to events at runtime, adapting to changing requirements without requiring tight coupling between components.\n",
        "\n",
        "6. Scriptable Behavior: Embedding scripting languages within the application allows for dynamic modification of object behavior through scripts. Developers can create and execute scripts at runtime, altering the behavior of objects without recompiling or modifying their source code.\n",
        "\n",
        "7. Configuration Files: Utilizing configuration files to store and load object properties and configurations enables dynamic adjustments at runtime. Developers can modify configuration files without recompiling the application, allowing for flexible changes to object behavior and parameters.\n",
        "\n",
        "Behavioral Design Patterns: Employing behavioral design patterns, such as the Strategy pattern and the Decorator pattern, promotes flexibility in object composition."
      ],
      "metadata": {
        "id": "eSgxjBUj0EQq"
      }
    },
    {
      "cell_type": "code",
      "source": [
        "#20. Create a Python class for a social media application, using composition to represent users, posts, and comments.\n",
        "\n",
        "class User:\n",
        "    def __init__(self, username, name, email):\n",
        "        self.username = username\n",
        "        self.name = name\n",
        "        self.email = email\n",
        "        self.posts = []\n",
        "\n",
        "    def create_post(self, content):\n",
        "        new_post = Post(self, content)\n",
        "        self.posts.append(new_post)\n",
        "\n",
        "class Post:\n",
        "    def __init__(self, author, content):\n",
        "        self.author = author\n",
        "        self.content = content\n",
        "        self.comments = []\n",
        "\n",
        "    def add_comment(self, commenter, comment_text):\n",
        "        new_comment = Comment(commenter, comment_text)\n",
        "        self.comments.append(new_comment)\n",
        "\n",
        "class Comment:\n",
        "    def __init__(self, commenter, comment_text):\n",
        "        self.commenter = commenter\n",
        "        self.comment_text = comment_text\n",
        "\n",
        "user1 = User(\"johndoe\", \"John Doe\", \"johndoe@example.com\")\n",
        "user2 = User(\"janedoe\", \"Jane Doe\", \"janedoe@example.com\")\n",
        "\n",
        "post1 = user1.create_post(\"This is my first post!\")\n",
        "post2 = user2.create_post(\"Just sharing my thoughts on today's news.\")\n",
        "\n",
        "print(f\"User: {user1.username}\")\n",
        "for post in user1.posts:\n",
        "    print(f\"  Post: {post.content}\")\n",
        "    for comment in post.comments:\n",
        "        print(f\"    Comment: {comment.commenter.username} - {comment.comment_text}\")\n"
      ],
      "metadata": {
        "colab": {
          "base_uri": "https://localhost:8080/"
        },
        "id": "EDtGJKGL0Yb6",
        "outputId": "447d3061-a0f6-4a9f-94ec-879a971bc4af"
      },
      "execution_count": 5,
      "outputs": [
        {
          "output_type": "stream",
          "name": "stdout",
          "text": [
            "User: johndoe\n",
            "  Post: This is my first post!\n"
          ]
        }
      ]
    }
  ]
}